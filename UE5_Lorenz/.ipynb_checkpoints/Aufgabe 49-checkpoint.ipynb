{
 "cells": [
  {
   "cell_type": "code",
   "execution_count": 118,
   "metadata": {},
   "outputs": [
    {
     "name": "stdout",
     "output_type": "stream",
     "text": [
      "error: monomialBaseInterpolation: operator /: nonconformant arguments (op1 is 6x6, op2 is 6x1)\n",
      "error: called from\n",
      "    monomialBaseInterpolation at line 13 column 11\n"
     ]
    }
   ],
   "source": [
    "##Aufgabe 49 Lösungmöglichkeit 1\n",
    "function result = monomialBaseInterpolation(t, y, minVal, maxVal)\n",
    "    degreePlusOne = 1;\n",
    "    if (length(t) == length(y)) degreePlusOne = (length(t));\n",
    "    ##calculate coeficients\n",
    "        A = zeros(degreePlusOne);\n",
    "        for i = [1:degreePlusOne]\n",
    "            for j = [1:degreePlusOne]\n",
    "                A(i,j) = t(i)**(j-1);\n",
    "                i;\n",
    "                j;\n",
    "            endfor\n",
    "        endfor\n",
    "        x = A/y\n",
    "        A*x\n",
    "    ##calculate result for range [minVal, maxVal] for coefficient vector x\n",
    "    result = zeros(1,maxVal);\n",
    "    cnt = minVal;\n",
    "    while(cnt < maxVal)\n",
    "        for i = [1:degreePlusOne] \n",
    "            result(cnt-minVal+1) += (cnt**(i-1))*x(i) ;\n",
    "        endfor\n",
    "        cnt += 1;\n",
    "    endwhile\n",
    "    endif\n",
    "    return\n",
    "endfunction\n",
    "t = [0.0, 0.5, 1.0, 6.0, 7.0, 9.0];\n",
    "y = [0.0, 1.6, 2.0, 2.0, 1.5, 0.0];\n",
    "plot(monomialBaseInterpolation(t,y,0,9), '-', y, '*')"
   ]
  },
  {
   "cell_type": "code",
   "execution_count": null,
   "metadata": {
    "collapsed": true
   },
   "outputs": [],
   "source": [
    "##Aufgabe 49 Lösungmöglichkeit 2\n"
   ]
  },
  {
   "cell_type": "code",
   "execution_count": null,
   "metadata": {
    "collapsed": true
   },
   "outputs": [],
   "source": []
  }
 ],
 "metadata": {
  "kernelspec": {
   "display_name": "Octave",
   "language": "octave",
   "name": "octave"
  },
  "language_info": {
   "file_extension": ".m",
   "help_links": [
    {
     "text": "GNU Octave",
     "url": "https://www.gnu.org/software/octave/support.html"
    },
    {
     "text": "Octave Kernel",
     "url": "https://github.com/Calysto/octave_kernel"
    },
    {
     "text": "MetaKernel Magics",
     "url": "https://github.com/calysto/metakernel/blob/master/metakernel/magics/README.md"
    }
   ],
   "mimetype": "text/x-octave",
   "name": "octave",
   "version": "4.2.1"
  }
 },
 "nbformat": 4,
 "nbformat_minor": 2
}
