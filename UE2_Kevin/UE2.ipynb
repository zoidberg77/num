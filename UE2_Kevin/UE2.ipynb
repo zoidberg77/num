{
 "cells": [
  {
   "cell_type": "code",
   "execution_count": 6,
   "metadata": {
    "collapsed": true
   },
   "outputs": [],
   "source": [
    "function retval=aritmean(v)\n",
    "    retval = 0;\n",
    "    for i = [1:columns(v)]\n",
    "        retval += v(1,i);\n",
    "    endfor\n",
    "    retval /= columns(v);\n",
    "    return\n",
    "endfunction"
   ]
  },
  {
   "cell_type": "code",
   "execution_count": 9,
   "metadata": {},
   "outputs": [
    {
     "name": "stdout",
     "output_type": "stream",
     "text": [
      "v =\n",
      "\n",
      "     1     2     3     4     5   100    90    40    10\n",
      "\n"
     ]
    }
   ],
   "source": [
    "v = [1,2,3,4,5,100,90,40,10]"
   ]
  },
  {
   "cell_type": "code",
   "execution_count": 33,
   "metadata": {},
   "outputs": [
    {
     "name": "stdout",
     "output_type": "stream",
     "text": [
      "ans =  3\n"
     ]
    }
   ],
   "source": [
    "aritmean(v)"
   ]
  },
  {
   "cell_type": "code",
   "execution_count": 5,
   "metadata": {
    "collapsed": true
   },
   "outputs": [],
   "source": [
    "function retval=varianz1(v)\n",
    "    retval = 0;\n",
    "    am = aritmean(v);\n",
    "    for i = [1:columns(v)]\n",
    "        retval += (v(1,i)-am)^2;\n",
    "    endfor\n",
    "    retval /= columns(v);\n",
    "    return\n",
    "endfunction"
   ]
  },
  {
   "cell_type": "code",
   "execution_count": 10,
   "metadata": {},
   "outputs": [
    {
     "name": "stdout",
     "output_type": "stream",
     "text": [
      "ans =  1403.3\n"
     ]
    }
   ],
   "source": [
    "varianz1(v)"
   ]
  },
  {
   "cell_type": "code",
   "execution_count": 4,
   "metadata": {
    "collapsed": true
   },
   "outputs": [],
   "source": [
    "function retval=varianz2(v)\n",
    "    retval = 0;\n",
    "    links = 0;\n",
    "    rechts = 0;\n",
    "    for i = [1:length(v)]\n",
    "        links += v(i)^2;\n",
    "        rechts += v(i);\n",
    "    endfor\n",
    "    links /= length(v);\n",
    "    rechts /= length(v);\n",
    "    rechts = rechts^2;\n",
    "    retval = links-rechts;\n",
    "    return\n",
    "endfunction"
   ]
  },
  {
   "cell_type": "code",
   "execution_count": 50,
   "metadata": {},
   "outputs": [
    {
     "name": "stdout",
     "output_type": "stream",
     "text": [
      "ans =  1403.3\n"
     ]
    }
   ],
   "source": [
    "varianz2(v)"
   ]
  },
  {
   "cell_type": "code",
   "execution_count": 7,
   "metadata": {
    "collapsed": true
   },
   "outputs": [],
   "source": [
    "function rv=rndVector(g,v,b)\n",
    "rv = [1:g];\n",
    "for i= [1:g]\n",
    "rv(i) = normrnd(v,b);\n",
    "endfor\n",
    "return\n",
    "endfunction"
   ]
  },
  {
   "cell_type": "code",
   "execution_count": 62,
   "metadata": {},
   "outputs": [
    {
     "name": "stdout",
     "output_type": "stream",
     "text": [
      "ans =  0.081276\n"
     ]
    }
   ],
   "source": [
    "varianz1(v2)"
   ]
  },
  {
   "cell_type": "code",
   "execution_count": 63,
   "metadata": {},
   "outputs": [
    {
     "name": "stdout",
     "output_type": "stream",
     "text": [
      "ans =  0.081276\n"
     ]
    }
   ],
   "source": [
    "varianz2(v2)"
   ]
  },
  {
   "cell_type": "code",
   "execution_count": 19,
   "metadata": {},
   "outputs": [
    {
     "name": "stdout",
     "output_type": "stream",
     "text": [
      "-0.0000000000000022204460492503130808472633\n"
     ]
    }
   ],
   "source": [
    "printf('%.40f\\n', varianz1(v2)-varianz2(v2))"
   ]
  },
  {
   "cell_type": "code",
   "execution_count": 50,
   "metadata": {},
   "outputs": [
    {
     "name": "stdout",
     "output_type": "stream",
     "text": [
      "3.8728797757115702715680072287796065211296\n"
     ]
    }
   ],
   "source": [
    "printf('%.40f\\n', 5-sqrt(varianz1(v2)))"
   ]
  },
  {
   "cell_type": "code",
   "execution_count": 51,
   "metadata": {},
   "outputs": [
    {
     "name": "stdout",
     "output_type": "stream",
     "text": [
      "3.8728797757115693833895875286543741822243\n"
     ]
    }
   ],
   "source": [
    "printf('%.40f\\n', 5-sqrt(varianz2(v2)))"
   ]
  },
  {
   "cell_type": "code",
   "execution_count": 52,
   "metadata": {},
   "outputs": [
    {
     "name": "stdout",
     "output_type": "stream",
     "text": [
      "3.7398412798381306387796030321624130010605\n"
     ]
    }
   ],
   "source": [
    "printf('%.40f\\n', 5-sqrt(var(v2)))"
   ]
  },
  {
   "cell_type": "code",
   "execution_count": 9,
   "metadata": {
    "collapsed": true
   },
   "outputs": [],
   "source": [
    "function rv=absoluterFehler(approx, true)\n",
    "rv = sqrt((approx-true)^2);\n",
    "return\n",
    "endfunction"
   ]
  },
  {
   "cell_type": "code",
   "execution_count": 12,
   "metadata": {
    "collapsed": true
   },
   "outputs": [],
   "source": [
    "function rv=relativerFehler(approx, true)\n",
    "rv = sqrt((absoluterFehler(approx,true)/true)^2);\n",
    "return\n",
    "endfunction"
   ]
  },
  {
   "cell_type": "code",
   "execution_count": 11,
   "metadata": {
    "collapsed": true
   },
   "outputs": [],
   "source": [
    "function erg=absoluterFehlerVar1(n, armean, dev)\n",
    "erg = (1:n);\n",
    "for i = [1:n]\n",
    "v = rndVector(i,armean,dev);\n",
    "erg(i) = absoluterFehler(varianz1(v),dev^2);\n",
    "endfor\n",
    "return\n",
    "endfunction"
   ]
  },
  {
   "cell_type": "code",
   "execution_count": 12,
   "metadata": {
    "collapsed": true
   },
   "outputs": [],
   "source": [
    "function erg=absoluterFehlerVar2(n, armean, dev)\n",
    "erg = (1:n);\n",
    "for i = [1:n]\n",
    "v = rndVector(i,armean,dev);\n",
    "erg(i) = absoluterFehler(varianz2(v),dev^2);\n",
    "endfor\n",
    "return\n",
    "endfunction"
   ]
  },
  {
   "cell_type": "code",
   "execution_count": 19,
   "metadata": {
    "collapsed": true
   },
   "outputs": [],
   "source": [
    "function erg=relativerFehlerVar1(n, armean, dev)\n",
    "erg = (1:n);\n",
    "for i = [1:n]\n",
    "v = rndVector(i,armean,dev);\n",
    "erg(i) = relativerFehler(varianz1(v),dev^2);\n",
    "endfor\n",
    "return\n",
    "endfunction"
   ]
  },
  {
   "cell_type": "code",
   "execution_count": 23,
   "metadata": {
    "collapsed": true
   },
   "outputs": [],
   "source": [
    "function erg=relativerFehlerVar2(n, armean, dev)\n",
    "erg = (1:n);\n",
    "for i = [1:n]\n",
    "v = rndVector(i,armean,dev);\n",
    "erg(i) = relativerFehler(varianz2(v),dev^2);\n",
    "endfor\n",
    "return\n",
    "endfunction"
   ]
  },
  {
   "cell_type": "code",
   "execution_count": 29,
   "metadata": {},
   "outputs": [
    {
     "data": {
      "image/png": "[encoded data removed]",
      "text/plain": [
       "<IPython.core.display.Image object>"
      ]
     },
     "metadata": {},
     "output_type": "display_data"
    }
   ],
   "source": [
    "plot(relativerFehlerVar1(700,3,5),'-')"
   ]
  },
  {
   "cell_type": "code",
   "execution_count": 28,
   "metadata": {},
   "outputs": [
    {
     "data": {
      "image/png": "[encoded data removed]",
      "text/plain": [
       "<IPython.core.display.Image object>"
      ]
     },
     "metadata": {},
     "output_type": "display_data"
    }
   ],
   "source": [
    "plot(relativerFehlerVar2(700,3,5),'-')"
   ]
  },
  {
   "cell_type": "code",
   "execution_count": 13,
   "metadata": {},
   "outputs": [
    {
     "data": {
      "image/png": "[encoded data removed]",
      "text/plain": [
       "<IPython.core.display.Image object>"
      ]
     },
     "metadata": {},
     "output_type": "display_data"
    }
   ],
   "source": [
    "plot(absoluterFehlerVar1(700,3,5),'-')"
   ]
  },
  {
   "cell_type": "code",
   "execution_count": 14,
   "metadata": {},
   "outputs": [
    {
     "data": {
      "image/png": "[encoded data removed]",
      "text/plain": [
       "<IPython.core.display.Image object>"
      ]
     },
     "metadata": {},
     "output_type": "display_data"
    }
   ],
   "source": [
    "plot(absoluterFehlerVar2(700,3,5),'-')"
   ]
  },
  {
   "cell_type": "code",
   "execution_count": 9,
   "metadata": {
    "collapsed": true
   },
   "outputs": [],
   "source": [
    "A = [1 4 3; 0 2 7; 0 0 1];"
   ]
  },
  {
   "cell_type": "code",
   "execution_count": 6,
   "metadata": {
    "collapsed": true
   },
   "outputs": [],
   "source": [
    "b = [5 6 7];"
   ]
  },
  {
   "cell_type": "code",
   "execution_count": 10,
   "metadata": {
    "collapsed": true
   },
   "outputs": [],
   "source": [
    "function erg = Ux__b(U, b)\n",
    "    erg = zeros(1, size(b)(2));\n",
    "    i = rows(U);\n",
    "    while i >= 1\n",
    "        if U(i,i) == 0\n",
    "            return\n",
    "        endif\n",
    "        erg(i) = b(i)/U(i,i);\n",
    "        for j = [1:i-1]\n",
    "            b(j) = b(j) - U(j,i)*erg(i);\n",
    "        endfor\n",
    "        i = i - 1;\n",
    "    endwhile\n",
    "    return\n",
    "endfunction"
   ]
  },
  {
   "cell_type": "code",
   "execution_count": 11,
   "metadata": {},
   "outputs": [
    {
     "name": "stdout",
     "output_type": "stream",
     "text": [
      "ans =\n",
      "\n",
      "   70.0000  -21.5000    7.0000\n",
      "\n"
     ]
    }
   ],
   "source": [
    "Ux__b(A,b)"
   ]
  },
  {
   "cell_type": "code",
   "execution_count": 12,
   "metadata": {},
   "outputs": [
    {
     "name": "stdout",
     "output_type": "stream",
     "text": [
      "x =\n",
      "\n",
      "   0.454545\n",
      "   0.554545\n",
      "   0.063636\n",
      "\n"
     ]
    }
   ],
   "source": [
    "x=U/b"
   ]
  },
  {
   "cell_type": "code",
   "execution_count": null,
   "metadata": {
    "collapsed": true
   },
   "outputs": [],
   "source": []
  }
 ],
 "metadata": {
  "kernelspec": {
   "display_name": "Octave",
   "language": "octave",
   "name": "octave"
  },
  "language_info": {
   "file_extension": ".m",
   "help_links": [
    {
     "text": "GNU Octave",
     "url": "https://www.gnu.org/software/octave/support.html"
    },
    {
     "text": "Octave Kernel",
     "url": "https://github.com/Calysto/octave_kernel"
    },
    {
     "text": "MetaKernel Magics",
     "url": "https://github.com/calysto/metakernel/blob/master/metakernel/magics/README.md"
    }
   ],
   "mimetype": "text/x-octave",
   "name": "octave",
   "version": "4.2.1"
  }
 },
 "nbformat": 4,
 "nbformat_minor": 2
}
