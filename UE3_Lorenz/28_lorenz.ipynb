{
 "cells": [
  {
   "cell_type": "code",
   "execution_count": 8,
   "metadata": {
    "collapsed": true
   },
   "outputs": [],
   "source": [
    "function res = powerIteration(A,v,k) #aufgabe a\n",
    "    res = v;\n",
    "    for i = [1:k]\n",
    "        res = A*res;\n",
    "        res = res/norm(res, inf);\n",
    "    endfor\n",
    "    return\n",
    "endfunction"
   ]
  },
  {
   "cell_type": "code",
   "execution_count": 6,
   "metadata": {
    "collapsed": true
   },
   "outputs": [],
   "source": [
    "start = x = [0;1;2]; # test der funktionalität\n",
    "A = [1 2 3; \n",
    "     2 3 1; \n",
    "     3 2 1;];"
   ]
  },
  {
   "cell_type": "code",
   "execution_count": 15,
   "metadata": {},
   "outputs": [],
   "source": [
    "eigA = powerIteration(A,x,100);"
   ]
  },
  {
   "cell_type": "code",
   "execution_count": 16,
   "metadata": {},
   "outputs": [
    {
     "name": "stdout",
     "output_type": "stream",
     "text": [
      "eigenVektorA =\n",
      "\n",
      "   1\n",
      "   1\n",
      "   1\n",
      "\n"
     ]
    }
   ],
   "source": [
    "eigA"
   ]
  },
  {
   "cell_type": "code",
   "execution_count": 31,
   "metadata": {},
   "outputs": [
    {
     "name": "stdout",
     "output_type": "stream",
     "text": [
      "V =\n",
      "\n",
      "  -0.468165  -0.752066   0.125988  -0.377964\n",
      "  -0.468165   0.059311   0.629941  -0.377964\n",
      "  -0.585206   0.265714  -0.755929   0.755929\n",
      "   0.468165  -0.600229  -0.125988   0.377964\n",
      "\n",
      "D =\n",
      "\n",
      "Diagonal Matrix\n",
      "\n",
      "  -11.0000         0         0         0\n",
      "         0    8.0000         0         0\n",
      "         0         0   -2.0000         0\n",
      "         0         0         0    2.0000\n",
      "\n"
     ]
    }
   ],
   "source": [
    "[V,D] = eig(A) # überprüfung mit octave (spektralzerlegung) - passt. \n",
    "               #v(1) = a * eigA mit a element R"
   ]
  },
  {
   "cell_type": "code",
   "execution_count": 19,
   "metadata": {
    "collapsed": true
   },
   "outputs": [],
   "source": [
    "# aufgabe b & c"
   ]
  },
  {
   "cell_type": "code",
   "execution_count": 25,
   "metadata": {
    "collapsed": true
   },
   "outputs": [],
   "source": [
    "A = [3 -5 -4 4;\n",
    "    -1 -7 -4 -2;\n",
    "    -7 1 -3 4;\n",
    "    5 5 4 4;];\n",
    "    \n",
    "start = [1;2;3;4];\n",
    "\n",
    "B = [3 -7 1 1;\n",
    "    -2 -1 -1 -2;\n",
    "    3 0 4 5;\n",
    "    -4 1 -3 -4];"
   ]
  },
  {
   "cell_type": "code",
   "execution_count": 28,
   "metadata": {},
   "outputs": [
    {
     "name": "stdout",
     "output_type": "stream",
     "text": [
      "eigA =\n",
      "\n",
      "   0.80000\n",
      "   0.80000\n",
      "   1.00000\n",
      "  -0.80000\n",
      "\n"
     ]
    }
   ],
   "source": [
    "eigA = powerIteration(A, start, 100)"
   ]
  },
  {
   "cell_type": "code",
   "execution_count": 32,
   "metadata": {},
   "outputs": [
    {
     "name": "stdout",
     "output_type": "stream",
     "text": [
      "V =\n",
      "\n",
      "  -0.468165  -0.752066   0.125988  -0.377964\n",
      "  -0.468165   0.059311   0.629941  -0.377964\n",
      "  -0.585206   0.265714  -0.755929   0.755929\n",
      "   0.468165  -0.600229  -0.125988   0.377964\n",
      "\n",
      "D =\n",
      "\n",
      "Diagonal Matrix\n",
      "\n",
      "  -11.0000         0         0         0\n",
      "         0    8.0000         0         0\n",
      "         0         0   -2.0000         0\n",
      "         0         0         0    2.0000\n",
      "\n"
     ]
    }
   ],
   "source": [
    "[V,D] = eig(A)  # überprüfung mit octave (spektralzerlegung) - \n",
    "                #passt. v(1) = a * eigA mit a element R"
   ]
  },
  {
   "cell_type": "code",
   "execution_count": 34,
   "metadata": {},
   "outputs": [
    {
     "name": "stdout",
     "output_type": "stream",
     "text": [
      "eigB =\n",
      "\n",
      "   1.00000\n",
      "   0.38776\n",
      "  -0.38776\n",
      "   0.18367\n",
      "\n"
     ]
    }
   ],
   "source": [
    "eigB = powerIteration(B, start, 100)"
   ]
  },
  {
   "cell_type": "code",
   "execution_count": 33,
   "metadata": {},
   "outputs": [
    {
     "name": "stdout",
     "output_type": "stream",
     "text": [
      "V =\n",
      "\n",
      "   0.500000   0.833333  -0.059868   0.059868\n",
      "   0.500000  -0.166667  -0.059868   0.059868\n",
      "  -0.500000   0.166667  -0.838158   0.838158\n",
      "   0.500000  -0.500000   0.538816  -0.538816\n",
      "\n",
      "D =\n",
      "\n",
      "Diagonal Matrix\n",
      "\n",
      "  -4.00000         0         0         0\n",
      "         0   4.00000         0         0\n",
      "         0         0   1.00000         0\n",
      "         0         0         0   1.00000\n",
      "\n"
     ]
    }
   ],
   "source": [
    "[V,D] = eig(B)  # überprüfung mit octave (spektralzerlegung) - \n",
    "                #passt nicht. wahrschienlich eigB = a*v(1) + b*v(2).\n",
    "                # eigB ist also linearkombi von v(1) und v(2)"
   ]
  },
  {
   "cell_type": "code",
   "execution_count": 35,
   "metadata": {
    "collapsed": true
   },
   "outputs": [],
   "source": [
    "#Begründung, warum es bei B nicht geht:\n",
    "#The power iteration method is simple and elegant, but suffers some major drawbacks. The method only\n",
    "#returns a single eigenvector estimate, and it is always the one corresponding to the eigenvalue of largest\n",
    "#magnitude. In addition, convergence is only guaranteed if the eigenvalues are distinct—in particular, the\n",
    "#two eigenvalues of largest absolute value must have distinct magnitudes. The rate of convergence primarily\n",
    "#depends upon the ratio of these magnitudes, so if the two largest eigenvalues have similar sizes, then the\n",
    "#convergence will be slow."
   ]
  },
  {
   "cell_type": "code",
   "execution_count": null,
   "metadata": {
    "collapsed": true
   },
   "outputs": [],
   "source": []
  }
 ],
 "metadata": {
  "kernelspec": {
   "display_name": "Octave",
   "language": "octave",
   "name": "octave"
  },
  "language_info": {
   "file_extension": ".m",
   "help_links": [
    {
     "text": "GNU Octave",
     "url": "https://www.gnu.org/software/octave/support.html"
    },
    {
     "text": "Octave Kernel",
     "url": "https://github.com/Calysto/octave_kernel"
    },
    {
     "text": "MetaKernel Magics",
     "url": "https://github.com/calysto/metakernel/blob/master/metakernel/magics/README.md"
    }
   ],
   "mimetype": "text/x-octave",
   "name": "octave",
   "version": "4.2.1"
  }
 },
 "nbformat": 4,
 "nbformat_minor": 2
}
