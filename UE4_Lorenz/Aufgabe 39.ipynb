{
 "cells": [
  {
   "cell_type": "code",
   "execution_count": 171,
   "metadata": {},
   "outputs": [],
   "source": [
    "function x0 = bisekt (func, interval, iterations) # bisektion\n",
    "   for n = 1:iterations\n",
    "        x0 = (interval(2) + interval(1))/2;\n",
    "        if (func(x0) > 0) \n",
    "            interval(2) = x0;\n",
    "        else\n",
    "            if (func(x0) < 0)\n",
    "                interval(1) = x0;\n",
    "            else\n",
    "                break;\n",
    "            endif\n",
    "        endif\n",
    "    endfor \n",
    "    return\n",
    "endfunction"
   ]
  },
  {
   "cell_type": "code",
   "execution_count": 227,
   "metadata": {},
   "outputs": [
    {
     "name": "stdout",
     "output_type": "stream",
     "text": [
      "2.0945514815423269538996464689262211322784\n"
     ]
    }
   ],
   "source": [
    "function y = func_a(x)\n",
    "    y = x^3 - 2*x - 5;\n",
    "    return;\n",
    "endfunction\n",
    "\n",
    "interval=[-10000, 10000];\n",
    "\n",
    "printf('%.40f\\n', bisekt(@func_a, interval, 1000)) # we want more digits"
   ]
  },
  {
   "cell_type": "code",
   "execution_count": 209,
   "metadata": {},
   "outputs": [
    {
     "name": "stdout",
     "output_type": "stream",
     "text": [
      "-10000.00000000000000000000\n"
     ]
    }
   ],
   "source": [
    "function y = func_b(x) #  keine reellen nullstellen\n",
    "    y = exp(-x) - x;\n",
    "    return;\n",
    "endfunction\n",
    "\n",
    "interval=[-10000, 10000];\n",
    "\n",
    "printf('%.20f\\n', bisekt(@func_b, interval, 1000)) "
   ]
  },
  {
   "cell_type": "code",
   "execution_count": 203,
   "metadata": {},
   "outputs": [
    {
     "name": "stdout",
     "output_type": "stream",
     "text": [
      "0.99999830126762390137\n"
     ]
    }
   ],
   "source": [
    "function y = func_c(x)\n",
    "    y = x^3 - 3*x^2 + 3*x -1;\n",
    "    return;\n",
    "endfunction\n",
    "\n",
    "interval=[-10000, 10000];\n",
    "\n",
    "printf('%.20f\\n', bisekt(@func_c, interval, 1000))"
   ]
  },
  {
   "cell_type": "code",
   "execution_count": 247,
   "metadata": {},
   "outputs": [],
   "source": [
    "function x0 = fixpunkt (func, start, iterations) # fixpunktiteration\n",
    "   x0 = start;\n",
    "   for n = 1:iterations\n",
    "        x0 = func(x0);\n",
    "    endfor \n",
    "    return\n",
    "endfunction"
   ]
  },
  {
   "cell_type": "code",
   "execution_count": 219,
   "metadata": {},
   "outputs": [],
   "source": [
    "function y = func_a_fix(x)\n",
    "    y = x^3 - 2*x - 5 + x; # problem auf fixpunktproblem umgeschrieben\n",
    "    return;\n",
    "endfunction"
   ]
  },
  {
   "cell_type": "code",
   "execution_count": 243,
   "metadata": {},
   "outputs": [
    {
     "name": "stdout",
     "output_type": "stream",
     "text": [
      "x0 =  2.0946\n",
      "x0 =  2.0946\n",
      "x0 =  2.0946\n",
      "x0 =  2.0946\n",
      "x0 =  2.0946\n",
      "x0 =  2.0946\n",
      "x0 =  2.0946\n",
      "x0 =  2.0946\n",
      "x0 =  2.0946\n",
      "x0 =  2.0946\n",
      "x0 =  2.0948\n",
      "x0 =  2.0980\n",
      "x0 =  2.1363\n",
      "x0 =  2.6129\n",
      "x0 =  10.227\n",
      "x0 =  1054.4\n",
      "x0 =    1.1721e+09\n",
      "x0 =    1.6103e+27\n",
      "x0 =    4.1757e+81\n",
      "x0 =   7.2810e+244\n",
      "ans =   7.2810e+244\n"
     ]
    }
   ],
   "source": [
    "fixpunkt(@func_a_fix, 2.0945514815423269538996464689262211322784, 20) \n",
    "# nullstellen der ursprünglichen funktion sind fixpunkte der der umgeschriebenen funktion.\n",
    "# Der Bereich um den Fixpunkt, in dem der Startwert liegen muss, ist aber offenbqar sehr klein.\n",
    "# eventuell kleiner als das maschinen epsilon, da selbst dann divergenz (wenn zuerst auch langsam), \n",
    "# wenn man die nullstellen des ausgangsproblems einsetzt."
   ]
  },
  {
   "cell_type": "code",
   "execution_count": 244,
   "metadata": {
    "collapsed": true
   },
   "outputs": [],
   "source": [
    "function y = func_b_fix(x)\n",
    "    y = exp(-x); # problem auf fixpunktproblem umgeschrieben\n",
    "    return;\n",
    "endfunction"
   ]
  },
  {
   "cell_type": "code",
   "execution_count": 248,
   "metadata": {},
   "outputs": [
    {
     "name": "stdout",
     "output_type": "stream",
     "text": [
      "ans =  0.56714\n"
     ]
    }
   ],
   "source": [
    "fixpunkt(@func_b_fix, 2, 100) "
   ]
  },
  {
   "cell_type": "code",
   "execution_count": 249,
   "metadata": {
    "collapsed": true
   },
   "outputs": [],
   "source": [
    "function y = func_c_fix(x)\n",
    "    y = x^3 - 3*x^2 + 3*x -1 + x; # problem auf fixpunktproblem umgeschrieben\n",
    "    return;\n",
    "endfunction"
   ]
  },
  {
   "cell_type": "code",
   "execution_count": 269,
   "metadata": {},
   "outputs": [
    {
     "name": "stdout",
     "output_type": "stream",
     "text": [
      "ans =  1\n"
     ]
    }
   ],
   "source": [
    "fixpunkt(@func_c_fix, 1, 1000) \n",
    "# auch hier ist der konvergenzbereich seeeeehr klein. 0.95 divergiert zB schon recht flott."
   ]
  },
  {
   "cell_type": "code",
   "execution_count": null,
   "metadata": {
    "collapsed": true
   },
   "outputs": [],
   "source": []
  }
 ],
 "metadata": {
  "kernelspec": {
   "display_name": "Octave",
   "language": "octave",
   "name": "octave"
  },
  "language_info": {
   "file_extension": ".m",
   "help_links": [
    {
     "text": "GNU Octave",
     "url": "https://www.gnu.org/software/octave/support.html"
    },
    {
     "text": "Octave Kernel",
     "url": "https://github.com/Calysto/octave_kernel"
    },
    {
     "text": "MetaKernel Magics",
     "url": "https://github.com/calysto/metakernel/blob/master/metakernel/magics/README.md"
    }
   ],
   "mimetype": "text/x-octave",
   "name": "octave",
   "version": "4.2.1"
  }
 },
 "nbformat": 4,
 "nbformat_minor": 2
}
