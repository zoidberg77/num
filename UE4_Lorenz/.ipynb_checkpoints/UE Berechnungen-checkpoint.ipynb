{
 "cells": [
  {
   "cell_type": "code",
   "execution_count": 11,
   "metadata": {},
   "outputs": [],
   "source": [
    "#Beispiel 31\n",
    "function xkplus1 = newton_f(xk)\n",
    "    xkplus1 = xk - (xk + exp(xk) -2)/(1 + exp(xk));\n",
    "    return\n",
    "endfunction"
   ]
  },
  {
   "cell_type": "code",
   "execution_count": 10,
   "metadata": {},
   "outputs": [
    {
     "name": "stdout",
     "output_type": "stream",
     "text": [
      "xkplus1 =  0.50000\n",
      "xkplus1 =  0.44385\n",
      "xkplus1 =  0.44285\n",
      "xkplus1 =  0.44285\n",
      "xkplus1 =  0.44285\n",
      "xkplus1 =  0.44285\n",
      "xkplus1 =  0.44285\n"
     ]
    }
   ],
   "source": [
    "newton_f(newton_f(newton_f(newton_f(newton_f(newton_f(newton_f(0)))))));"
   ]
  },
  {
   "cell_type": "code",
   "execution_count": null,
   "metadata": {
    "collapsed": true
   },
   "outputs": [],
   "source": []
  }
 ],
 "metadata": {
  "kernelspec": {
   "display_name": "Octave",
   "language": "octave",
   "name": "octave"
  },
  "language_info": {
   "file_extension": ".m",
   "help_links": [
    {
     "text": "GNU Octave",
     "url": "https://www.gnu.org/software/octave/support.html"
    },
    {
     "text": "Octave Kernel",
     "url": "https://github.com/Calysto/octave_kernel"
    },
    {
     "text": "MetaKernel Magics",
     "url": "https://github.com/calysto/metakernel/blob/master/metakernel/magics/README.md"
    }
   ],
   "mimetype": "text/x-octave",
   "name": "octave",
   "version": "4.2.1"
  }
 },
 "nbformat": 4,
 "nbformat_minor": 2
}
