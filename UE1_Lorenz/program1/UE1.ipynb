{
 "cells": [
  {
   "cell_type": "code",
   "execution_count": 15,
   "metadata": {},
   "outputs": [
    {
     "name": "stdout",
     "output_type": "stream",
     "text": [
      "A =\n",
      "\n",
      "   1   2   3   4\n",
      "   5   6   7   8\n",
      "   9   0   1   2\n",
      "   3   4   5   6\n",
      "\n"
     ]
    }
   ],
   "source": [
    "A = [1 2 3 4; 5 6 7 8; 9 0 1 2; 3 4 5 6]"
   ]
  },
  {
   "cell_type": "code",
   "execution_count": 16,
   "metadata": {
    "collapsed": true
   },
   "outputs": [],
   "source": [
    "csvwrite(\"matrix.csv\", A)"
   ]
  },
  {
   "cell_type": "code",
   "execution_count": 17,
   "metadata": {},
   "outputs": [
    {
     "name": "stdout",
     "output_type": "stream",
     "text": [
      "b =\n",
      "\n",
      "   1   2   3   4\n",
      "\n"
     ]
    }
   ],
   "source": [
    "b = [1 2 3 4]"
   ]
  },
  {
   "cell_type": "code",
   "execution_count": 18,
   "metadata": {
    "collapsed": true
   },
   "outputs": [],
   "source": [
    "csvwrite(\"vector.csv\", b)"
   ]
  },
  {
   "cell_type": "code",
   "execution_count": 19,
   "metadata": {},
   "outputs": [
    {
     "name": "stdout",
     "output_type": "stream",
     "text": [
      "B =\n",
      "\n",
      "   1   2   3   4\n",
      "   5   6   7   8\n",
      "   9   0   1   2\n",
      "   3   4   5   6\n",
      "\n"
     ]
    }
   ],
   "source": [
    "B = csvread(\"matrix.csv\")"
   ]
  },
  {
   "cell_type": "code",
   "execution_count": 58,
   "metadata": {},
   "outputs": [
    {
     "name": "stdout",
     "output_type": "stream",
     "text": [
      "c =\n",
      "\n",
      "   1   2   3   4\n",
      "\n"
     ]
    }
   ],
   "source": [
    "c = csvread(\"vector.csv\")"
   ]
  },
  {
   "cell_type": "code",
   "execution_count": 60,
   "metadata": {},
   "outputs": [
    {
     "name": "stdout",
     "output_type": "stream",
     "text": [
      "warning: matrix singular to machine precision, rcond = 2.22045e-17\n",
      "x =\n",
      "\n",
      "   0.166667\n",
      "  -0.680556\n",
      "   0.027778\n",
      "   0.736111\n",
      "\n"
     ]
    }
   ],
   "source": [
    "x = B\\transpose(c)"
   ]
  },
  {
   "cell_type": "code",
   "execution_count": 12,
   "metadata": {},
   "outputs": [],
   "source": [
    "function kreuzprodukt(A, B)\n",
    "    if rows(A) == columns(B)\n",
    "        C = zeros(columns(A),rows(B))\n",
    "        for i = [1:columns(A)]\n",
    "            for k = [1:rows(B)]\n",
    "            elem = 0\n",
    "                for j = [1:rows(A)]\n",
    "                A(i,j)\n",
    "                elem = elem + A(i,j)*B(j,k)\n",
    "                endfor\n",
    "                C(i,k) = elem\n",
    "            endfor\n",
    "        endfor\n",
    "    else\n",
    "        printf(\"ERROR - Dimensions dont match\")\n",
    "    endif\n",
    "endfunction"
   ]
  },
  {
   "cell_type": "code",
   "execution_count": 20,
   "metadata": {
    "scrolled": true
   },
   "outputs": [
    {
     "name": "stdout",
     "output_type": "stream",
     "text": [
      "C =\n",
      "\n",
      "   0   0   0   0\n",
      "   0   0   0   0\n",
      "   0   0   0   0\n",
      "   0   0   0   0\n",
      "\n",
      "elem = 0\n",
      "ans =  1\n",
      "elem =  1\n",
      "ans =  2\n",
      "elem =  11\n",
      "ans =  3\n",
      "elem =  38\n",
      "ans =  4\n",
      "elem =  50\n",
      "C =\n",
      "\n",
      "   50    0    0    0\n",
      "    0    0    0    0\n",
      "    0    0    0    0\n",
      "    0    0    0    0\n",
      "\n",
      "elem = 0\n",
      "ans =  1\n",
      "elem =  2\n",
      "ans =  2\n",
      "elem =  14\n",
      "ans =  3\n",
      "elem =  14\n",
      "ans =  4\n",
      "elem =  30\n",
      "C =\n",
      "\n",
      "   50   30    0    0\n",
      "    0    0    0    0\n",
      "    0    0    0    0\n",
      "    0    0    0    0\n",
      "\n",
      "elem = 0\n",
      "ans =  1\n",
      "elem =  3\n",
      "ans =  2\n",
      "elem =  17\n",
      "ans =  3\n",
      "elem =  20\n",
      "ans =  4\n",
      "elem =  40\n",
      "C =\n",
      "\n",
      "   50   30   40    0\n",
      "    0    0    0    0\n",
      "    0    0    0    0\n",
      "    0    0    0    0\n",
      "\n",
      "elem = 0\n",
      "ans =  1\n",
      "elem =  4\n",
      "ans =  2\n",
      "elem =  20\n",
      "ans =  3\n",
      "elem =  26\n",
      "ans =  4\n",
      "elem =  50\n",
      "C =\n",
      "\n",
      "   50   30   40   50\n",
      "    0    0    0    0\n",
      "    0    0    0    0\n",
      "    0    0    0    0\n",
      "\n",
      "elem = 0\n",
      "ans =  5\n",
      "elem =  5\n",
      "ans =  6\n",
      "elem =  35\n",
      "ans =  7\n",
      "elem =  98\n",
      "ans =  8\n",
      "elem =  122\n",
      "C =\n",
      "\n",
      "    50    30    40    50\n",
      "   122     0     0     0\n",
      "     0     0     0     0\n",
      "     0     0     0     0\n",
      "\n",
      "elem = 0\n",
      "ans =  5\n",
      "elem =  10\n",
      "ans =  6\n",
      "elem =  46\n",
      "ans =  7\n",
      "elem =  46\n",
      "ans =  8\n",
      "elem =  78\n",
      "C =\n",
      "\n",
      "    50    30    40    50\n",
      "   122    78     0     0\n",
      "     0     0     0     0\n",
      "     0     0     0     0\n",
      "\n",
      "elem = 0\n",
      "ans =  5\n",
      "elem =  15\n",
      "ans =  6\n",
      "elem =  57\n",
      "ans =  7\n",
      "elem =  64\n",
      "ans =  8\n",
      "elem =  104\n",
      "C =\n",
      "\n",
      "    50    30    40    50\n",
      "   122    78   104     0\n",
      "     0     0     0     0\n",
      "     0     0     0     0\n",
      "\n",
      "elem = 0\n",
      "ans =  5\n",
      "elem =  20\n",
      "ans =  6\n",
      "elem =  68\n",
      "ans =  7\n",
      "elem =  82\n",
      "ans =  8\n",
      "elem =  130\n",
      "C =\n",
      "\n",
      "    50    30    40    50\n",
      "   122    78   104   130\n",
      "     0     0     0     0\n",
      "     0     0     0     0\n",
      "\n",
      "elem = 0\n",
      "ans =  9\n",
      "elem =  9\n",
      "ans = 0\n",
      "elem =  9\n",
      "ans =  1\n",
      "elem =  18\n",
      "ans =  2\n",
      "elem =  24\n",
      "C =\n",
      "\n",
      "    50    30    40    50\n",
      "   122    78   104   130\n",
      "    24     0     0     0\n",
      "     0     0     0     0\n",
      "\n",
      "elem = 0\n",
      "ans =  9\n",
      "elem =  18\n",
      "ans = 0\n",
      "elem =  18\n",
      "ans =  1\n",
      "elem =  18\n",
      "ans =  2\n",
      "elem =  26\n",
      "C =\n",
      "\n",
      "    50    30    40    50\n",
      "   122    78   104   130\n",
      "    24    26     0     0\n",
      "     0     0     0     0\n",
      "\n",
      "elem = 0\n",
      "ans =  9\n",
      "elem =  27\n",
      "ans = 0\n",
      "elem =  27\n",
      "ans =  1\n",
      "elem =  28\n",
      "ans =  2\n",
      "elem =  38\n",
      "C =\n",
      "\n",
      "    50    30    40    50\n",
      "   122    78   104   130\n",
      "    24    26    38     0\n",
      "     0     0     0     0\n",
      "\n",
      "elem = 0\n",
      "ans =  9\n",
      "elem =  36\n",
      "ans = 0\n",
      "elem =  36\n",
      "ans =  1\n",
      "elem =  38\n",
      "ans =  2\n",
      "elem =  50\n",
      "C =\n",
      "\n",
      "    50    30    40    50\n",
      "   122    78   104   130\n",
      "    24    26    38    50\n",
      "     0     0     0     0\n",
      "\n",
      "elem = 0\n",
      "ans =  3\n",
      "elem =  3\n",
      "ans =  4\n",
      "elem =  23\n",
      "ans =  5\n",
      "elem =  68\n",
      "ans =  6\n",
      "elem =  86\n",
      "C =\n",
      "\n",
      "    50    30    40    50\n",
      "   122    78   104   130\n",
      "    24    26    38    50\n",
      "    86     0     0     0\n",
      "\n",
      "elem = 0\n",
      "ans =  3\n",
      "elem =  6\n",
      "ans =  4\n",
      "elem =  30\n",
      "ans =  5\n",
      "elem =  30\n",
      "ans =  6\n",
      "elem =  54\n",
      "C =\n",
      "\n",
      "    50    30    40    50\n",
      "   122    78   104   130\n",
      "    24    26    38    50\n",
      "    86    54     0     0\n",
      "\n",
      "elem = 0\n",
      "ans =  3\n",
      "elem =  9\n",
      "ans =  4\n",
      "elem =  37\n",
      "ans =  5\n",
      "elem =  42\n",
      "ans =  6\n",
      "elem =  72\n",
      "C =\n",
      "\n",
      "    50    30    40    50\n",
      "   122    78   104   130\n",
      "    24    26    38    50\n",
      "    86    54    72     0\n",
      "\n",
      "elem = 0\n",
      "ans =  3\n",
      "elem =  12\n",
      "ans =  4\n",
      "elem =  44\n",
      "ans =  5\n",
      "elem =  54\n",
      "ans =  6\n",
      "elem =  90\n",
      "C =\n",
      "\n",
      "    50    30    40    50\n",
      "   122    78   104   130\n",
      "    24    26    38    50\n",
      "    86    54    72    90\n",
      "\n"
     ]
    }
   ],
   "source": [
    "kreuzprodukt(A,B)"
   ]
  },
  {
   "cell_type": "code",
   "execution_count": 21,
   "metadata": {},
   "outputs": [
    {
     "name": "stdout",
     "output_type": "stream",
     "text": [
      "ans =\n",
      "\n",
      "    50    30    40    50\n",
      "   122    78   104   130\n",
      "    24    26    38    50\n",
      "    86    54    72    90\n",
      "\n"
     ]
    }
   ],
   "source": [
    "A*B"
   ]
  },
  {
   "cell_type": "code",
   "execution_count": 25,
   "metadata": {},
   "outputs": [
    {
     "name": "stdout",
     "output_type": "stream",
     "text": [
      "C =\n",
      "\n",
      "   1   0   0\n",
      "   2   1   0\n",
      "  -4   3   1\n",
      "\n"
     ]
    }
   ],
   "source": [
    "C = [ 1 0 0; 2 1 0; -4 3 1]"
   ]
  },
  {
   "cell_type": "code",
   "execution_count": 26,
   "metadata": {},
   "outputs": [
    {
     "name": "stdout",
     "output_type": "stream",
     "text": [
      "ans =\n",
      "\n",
      "   1\n",
      "   1\n",
      "   1\n",
      "\n"
     ]
    }
   ],
   "source": [
    "eig(C)"
   ]
  },
  {
   "cell_type": "code",
   "execution_count": 33,
   "metadata": {},
   "outputs": [
    {
     "name": "stdout",
     "output_type": "stream",
     "text": [
      "error: 'defi' undefined near line 1 column 1\n"
     ]
    }
   ],
   "source": [
    "(C)"
   ]
  },
  {
   "cell_type": "code",
   "execution_count": null,
   "metadata": {
    "collapsed": true
   },
   "outputs": [],
   "source": []
  }
 ],
 "metadata": {
  "kernelspec": {
   "display_name": "Octave",
   "language": "octave",
   "name": "octave"
  },
  "language_info": {
   "file_extension": ".m",
   "help_links": [
    {
     "text": "GNU Octave",
     "url": "https://www.gnu.org/software/octave/support.html"
    },
    {
     "text": "Octave Kernel",
     "url": "https://github.com/Calysto/octave_kernel"
    },
    {
     "text": "MetaKernel Magics",
     "url": "https://github.com/calysto/metakernel/blob/master/metakernel/magics/README.md"
    }
   ],
   "mimetype": "text/x-octave",
   "name": "octave",
   "version": "4.0.0"
  }
 },
 "nbformat": 4,
 "nbformat_minor": 2
}
