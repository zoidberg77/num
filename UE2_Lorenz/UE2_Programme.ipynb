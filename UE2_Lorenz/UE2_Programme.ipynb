{
 "cells": [
  {
   "cell_type": "code",
   "execution_count": 28,
   "metadata": {},
   "outputs": [],
   "source": [
    "function returnValue = arithmeticMean(v)\n",
    "    returnValue = 0;\n",
    "    for i = [1:length(v)]\n",
    "        returnValue = returnValue + v(i);\n",
    "    endfor\n",
    "    returnValue = returnValue/length(v);\n",
    "    return\n",
    "endfunction"
   ]
  },
  {
   "cell_type": "code",
   "execution_count": 7,
   "metadata": {
    "collapsed": true
   },
   "outputs": [],
   "source": [
    "#Beispielfunktion:\n",
    "#function retval = any_nonzero (v)\n",
    "#  retval = 0;\n",
    "#  for i = 1:length (v)\n",
    "#    if (v (i) != 0)\n",
    "#      retval = 1;\n",
    "#      return;\n",
    "#    endif\n",
    "#  endfor\n",
    "#  printf (\"no nonzero elements found\\n\");\n",
    "#endfunction"
   ]
  },
  {
   "cell_type": "code",
   "execution_count": 110,
   "metadata": {},
   "outputs": [],
   "source": [
    "function returnValue = randomVector(n, l, u)\n",
    "    returnValue = [1:n];\n",
    "    for i =[1:n];\n",
    "        returnValue(i) = normrnd(l,u);\n",
    "    endfor\n",
    "    return;\n",
    "endfunction"
   ]
  },
  {
   "cell_type": "code",
   "execution_count": 116,
   "metadata": {},
   "outputs": [],
   "source": [
    "v = randomVector(500,-5000,5000);"
   ]
  },
  {
   "cell_type": "code",
   "execution_count": 92,
   "metadata": {
    "collapsed": true
   },
   "outputs": [],
   "source": [
    "function returnValue = variance1(v) #Varianz 1\n",
    "    returnValue = 0;\n",
    "    arithmeticMean = arithmeticMean(v);\n",
    "    for i = [1:length(v)]\n",
    "        returnValue = returnValue + (v(i) - arithmeticMean)^2;\n",
    "    endfor\n",
    "    returnValue = returnValue/length(v);\n",
    "    return\n",
    "endfunction\n",
    "    "
   ]
  },
  {
   "cell_type": "code",
   "execution_count": 117,
   "metadata": {},
   "outputs": [
    {
     "name": "stdout",
     "output_type": "stream",
     "text": [
      "ans =    2.5778e+07\n"
     ]
    }
   ],
   "source": [
    "variance1(v)"
   ]
  },
  {
   "cell_type": "code",
   "execution_count": 76,
   "metadata": {},
   "outputs": [],
   "source": [
    "function returnValue = variance2(v) #Varianz 2\n",
    "    returnValue = 0;\n",
    "    left = 0;\n",
    "    right  = 0;\n",
    "    for i = [1:length(v)]\n",
    "        left += v(i)^2;\n",
    "        right += v(i);\n",
    "    endfor\n",
    "    left /= length(v);\n",
    "    right = (right/length(v))^2;\n",
    "    returnValue = left - right;\n",
    "    return\n",
    "endfunction"
   ]
  },
  {
   "cell_type": "code",
   "execution_count": 118,
   "metadata": {},
   "outputs": [
    {
     "name": "stdout",
     "output_type": "stream",
     "text": [
      "ans =    2.5778e+07\n"
     ]
    }
   ],
   "source": [
    "variance2(v)"
   ]
  },
  {
   "cell_type": "code",
   "execution_count": 130,
   "metadata": {},
   "outputs": [
    {
     "name": "stdout",
     "output_type": "stream",
     "text": [
      "0.000000040978193283081054687500\n"
     ]
    }
   ],
   "source": [
    "printf('%.30f\\n', variance1(v) - variance2(v)) #Zeig uns die Differenz"
   ]
  },
  {
   "cell_type": "code",
   "execution_count": null,
   "metadata": {
    "collapsed": true
   },
   "outputs": [],
   "source": []
  }
 ],
 "metadata": {
  "kernelspec": {
   "display_name": "Octave",
   "language": "octave",
   "name": "octave"
  },
  "language_info": {
   "file_extension": ".m",
   "help_links": [
    {
     "text": "GNU Octave",
     "url": "https://www.gnu.org/software/octave/support.html"
    },
    {
     "text": "Octave Kernel",
     "url": "https://github.com/Calysto/octave_kernel"
    },
    {
     "text": "MetaKernel Magics",
     "url": "https://github.com/calysto/metakernel/blob/master/metakernel/magics/README.md"
    }
   ],
   "mimetype": "text/x-octave",
   "name": "octave",
   "version": "4.0.0"
  }
 },
 "nbformat": 4,
 "nbformat_minor": 2
}
