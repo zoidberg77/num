{
 "cells": [
  {
   "cell_type": "markdown",
   "metadata": {},
   "source": [
    "## Einführung zu Octave"
   ]
  },
  {
   "cell_type": "markdown",
   "metadata": {},
   "source": [
    "### Ausführung von Code\n",
    "Wir arbeiten in diesem Tutorial mit dem Octave-Kernel für Jupyter Notebook,  \n",
    "Octave kann man aber auch über das Terminal, oder das OctaveGUI ausführen.\n"
   ]
  },
  {
   "cell_type": "markdown",
   "metadata": {},
   "source": [
    "### Dokumentation\n",
    "Zu jeder vordefinierten Funktion lässt sich die (englische) Dokumentation mit \"help Funktionsname\" aufrufen\n",
    "#### Beispiel:"
   ]
  },
  {
   "cell_type": "code",
   "execution_count": 1,
   "metadata": {},
   "outputs": [
    {
     "name": "stdout",
     "output_type": "stream",
     "text": [
      "'log' is a built-in function from the file libinterp/corefcn/mappers.cc\n",
      "\n",
      " -- Mapping Function: log (X)\n",
      "     Compute the natural logarithm, 'ln (X)', for each element of X.\n",
      "\n",
      "     To compute the matrix logarithm, see *note Linear Algebra::.\n",
      "\n",
      "     See also: exp, log1p, log2, log10, logspace.\n",
      "\n",
      "Additional help for built-in functions and operators is\n",
      "available in the online version of the manual.  Use the command\n",
      "'doc <topic>' to search the manual index.\n",
      "\n",
      "Help and information about Octave is also available on the WWW\n",
      "at http://www.octave.org and via the help@octave.org\n",
      "mailing list.\n"
     ]
    }
   ],
   "source": [
    "help log"
   ]
  },
  {
   "cell_type": "markdown",
   "metadata": {},
   "source": [
    "### Good to know\n",
    "- 1-basiertes Indexing\n",
    "- Dynamic typing\n",
    "- Matlab-Kompatibilität (weitestgehend zumindest)\n",
    "- Funktionsargumente können Listen variabler Länge sein\n",
    "- Returnwerte können Listen variabler Länge sein"
   ]
  },
  {
   "cell_type": "markdown",
   "metadata": {
    "collapsed": true
   },
   "source": [
    "### Intro\n",
    "\n",
    "**Reelle und komplexe Skalare**\n",
    "\n"
   ]
  },
  {
   "cell_type": "code",
   "execution_count": 5,
   "metadata": {},
   "outputs": [
    {
     "name": "stdout",
     "output_type": "stream",
     "text": [
      "realScalar =  5\n"
     ]
    }
   ],
   "source": [
    "realScalar = 5"
   ]
  },
  {
   "cell_type": "code",
   "execution_count": 4,
   "metadata": {
    "collapsed": true
   },
   "outputs": [],
   "source": [
    "complexScalar = 5 + 2i;"
   ]
  },
  {
   "cell_type": "markdown",
   "metadata": {},
   "source": [
    "Eingabe des Namens einer Variablen gibt diese aus, anhängen von einem \";\" an ein statement unterdrückt den Output (nützlich bei 1000x1000 Matrizen etc):"
   ]
  },
  {
   "cell_type": "code",
   "execution_count": 3,
   "metadata": {},
   "outputs": [
    {
     "name": "stdout",
     "output_type": "stream",
     "text": [
      "complexScalar =  5 + 2i\n"
     ]
    }
   ],
   "source": [
    "complexScalar"
   ]
  },
  {
   "cell_type": "code",
   "execution_count": 7,
   "metadata": {},
   "outputs": [],
   "source": [
    "complexScalar+=2;"
   ]
  },
  {
   "cell_type": "markdown",
   "metadata": {},
   "source": [
    "**Matrizen**"
   ]
  },
  {
   "cell_type": "code",
   "execution_count": 8,
   "metadata": {},
   "outputs": [
    {
     "name": "stdout",
     "output_type": "stream",
     "text": [
      "ZeilenVektor =\n",
      "\n",
      "   1   2   3   4   5\n",
      "\n"
     ]
    }
   ],
   "source": [
    "ZeilenVektor = [1 2 3 4 5] %Mit Beistrichen kann man auch trennen"
   ]
  },
  {
   "cell_type": "code",
   "execution_count": 9,
   "metadata": {},
   "outputs": [
    {
     "name": "stdout",
     "output_type": "stream",
     "text": [
      "ZeilenVektor =\n",
      "\n",
      "   1   2   3   4   5\n",
      "\n",
      "ZeilenVektor =\n",
      "\n",
      "   1   3   5\n",
      "\n"
     ]
    }
   ],
   "source": [
    "ZeilenVektor = 1:5\n",
    "ZeilenVektor = 1:2:5 %range mit inkrement"
   ]
  },
  {
   "cell_type": "code",
   "execution_count": 11,
   "metadata": {},
   "outputs": [
    {
     "name": "stdout",
     "output_type": "stream",
     "text": [
      "SpaltenVektor =\n",
      "\n",
      "   1\n",
      "   2\n",
      "   3\n",
      "   4\n",
      "   5\n",
      "\n"
     ]
    }
   ],
   "source": [
    "SpaltenVektor = [1; 2; 3; 4; 5]"
   ]
  },
  {
   "cell_type": "code",
   "execution_count": 13,
   "metadata": {},
   "outputs": [
    {
     "name": "stdout",
     "output_type": "stream",
     "text": [
      "SpaltenVektor =\n",
      "\n",
      "   1\n",
      "   2\n",
      "   3\n",
      "   4\n",
      "   5\n",
      "\n"
     ]
    }
   ],
   "source": [
    "SpaltenVektor = (1:5)' %Der Operator ' transponiert"
   ]
  },
  {
   "cell_type": "code",
   "execution_count": 10,
   "metadata": {},
   "outputs": [
    {
     "name": "stdout",
     "output_type": "stream",
     "text": [
      "SpaltenVektor =\n",
      "\n",
      "   1   2   3   4   5\n",
      "\n"
     ]
    }
   ],
   "source": [
    "# Operatorpräzedenz ist wichtig:\n",
    "SpaltenVektor = 1:5'"
   ]
  },
  {
   "cell_type": "code",
   "execution_count": 16,
   "metadata": {},
   "outputs": [
    {
     "name": "stdout",
     "output_type": "stream",
     "text": [
      "Matrix =\n",
      "\n",
      "   1   2   3\n",
      "   4   5   6\n",
      "   7   8   9\n",
      "\n"
     ]
    }
   ],
   "source": [
    "Matrix = [1 2 3; 4 5 6; 7 8 9] %Zeilen werden durch ; getrennt"
   ]
  },
  {
   "cell_type": "markdown",
   "metadata": {},
   "source": [
    "Matrizen können auch komplexwertige Einträge haben."
   ]
  },
  {
   "cell_type": "markdown",
   "metadata": {},
   "source": [
    "**Index Expressions**"
   ]
  },
  {
   "cell_type": "code",
   "execution_count": 14,
   "metadata": {},
   "outputs": [
    {
     "name": "stdout",
     "output_type": "stream",
     "text": [
      "a =\n",
      "\n",
      "   1   2\n",
      "   3   4\n",
      "\n"
     ]
    }
   ],
   "source": [
    "a = [1:2; 3:4]"
   ]
  },
  {
   "cell_type": "code",
   "execution_count": 15,
   "metadata": {},
   "outputs": [
    {
     "name": "stdout",
     "output_type": "stream",
     "text": [
      "ans =\n",
      "\n",
      "   1\n",
      "   3\n",
      "   2\n",
      "   4\n",
      "\n",
      "ans =\n",
      "\n",
      "   1   3   2   4\n",
      "\n"
     ]
    }
   ],
   "source": [
    "a(:)       # Liste alle Elemente, Spalten untereinander\n",
    "a(:)'      # Dasselbe als Zeilenvektor"
   ]
  },
  {
   "cell_type": "code",
   "execution_count": 16,
   "metadata": {},
   "outputs": [
    {
     "name": "stdout",
     "output_type": "stream",
     "text": [
      "ans =  3\n",
      "ans =\n",
      "\n",
      "   1   3\n",
      "\n",
      "ans =\n",
      "\n",
      "   1\n",
      "   2\n",
      "\n"
     ]
    }
   ],
   "source": [
    "a(2)       # Skalar\n",
    "a(1:2)     # Zeilenvektor\n",
    "a([1; 3])  # Spaltenvektor"
   ]
  },
  {
   "cell_type": "code",
   "execution_count": 17,
   "metadata": {},
   "outputs": [
    {
     "name": "stdout",
     "output_type": "stream",
     "text": [
      "ans =\n",
      "\n",
      "   1   2\n",
      "\n",
      "ans =\n",
      "\n",
      "   1   2\n",
      "\n",
      "ans =\n",
      "\n",
      "   1   2\n",
      "\n"
     ]
    }
   ],
   "source": [
    "% a(i,j)      # Zeile i, Spalte j\n",
    "a(1, [1, 2])  # Zeile 1, Spalten 1 und 2\n",
    "a(1, 1:2)     # Zeile 1, Spalten 1-2\n",
    "a(1, :)       # Zeile 1, alle Spalten"
   ]
  },
  {
   "cell_type": "code",
   "execution_count": 36,
   "metadata": {},
   "outputs": [
    {
     "name": "stdout",
     "output_type": "stream",
     "text": [
      "ans =\n",
      "\n",
      "   1   2\n",
      "\n",
      "ans =\n",
      "\n",
      "   1   3\n",
      "\n",
      "ans =\n",
      "\n",
      "   2   4\n",
      "\n",
      "ans =\n",
      "\n",
      "   4   3   2   1\n",
      "\n"
     ]
    }
   ],
   "source": [
    "a = [1, 2, 3, 4];\n",
    "\n",
    "a(1:end/2)        # Erste Hälfte von a => [1, 2]\n",
    "a(end + 1) = 5;   # Element hinten anhängen\n",
    "a(end) = [];      # Letztes Element löschen\n",
    "a(1:2:end)        # Elemente mit ungeraden Indizes => [1, 3]\n",
    "a(2:2:end)        # Elemente mit geraden Indizes => [2, 4]\n",
    "a(end:-1:1)       # Umkehrung von a => [4, 3, 2 , 1]"
   ]
  },
  {
   "cell_type": "markdown",
   "metadata": {},
   "source": [
    "**Nützliche Matrizen**"
   ]
  },
  {
   "cell_type": "code",
   "execution_count": 62,
   "metadata": {},
   "outputs": [
    {
     "name": "stdout",
     "output_type": "stream",
     "text": [
      "ans =\n",
      "\n",
      "Diagonal Matrix\n",
      "\n",
      "   1   0   0\n",
      "   0   1   0\n",
      "   0   0   1\n",
      "\n"
     ]
    }
   ],
   "source": [
    "eye(3)"
   ]
  },
  {
   "cell_type": "code",
   "execution_count": 63,
   "metadata": {},
   "outputs": [
    {
     "name": "stdout",
     "output_type": "stream",
     "text": [
      "ans =\n",
      "\n",
      "   1   1   1\n",
      "   1   1   1\n",
      "   1   1   1\n",
      "\n"
     ]
    }
   ],
   "source": [
    "ones(3)"
   ]
  },
  {
   "cell_type": "code",
   "execution_count": 64,
   "metadata": {},
   "outputs": [
    {
     "name": "stdout",
     "output_type": "stream",
     "text": [
      "ans =\n",
      "\n",
      "   0   0   0\n",
      "   0   0   0\n",
      "   0   0   0\n",
      "\n"
     ]
    }
   ],
   "source": [
    "zeros(3)"
   ]
  },
  {
   "cell_type": "code",
   "execution_count": 40,
   "metadata": {},
   "outputs": [
    {
     "name": "stdout",
     "output_type": "stream",
     "text": [
      "ans =\n",
      "\n",
      "   0.52253   0.90668   0.70406\n",
      "   0.55135   0.48768   0.19946\n",
      "   0.96950   0.87596   0.25381\n",
      "\n"
     ]
    }
   ],
   "source": [
    "rand(3) % nxn Matrix mit Werten gleichverteilt in (0,1)"
   ]
  },
  {
   "cell_type": "markdown",
   "metadata": {},
   "source": [
    "mehr dazu hier: [Special Utility Matrices](https://www.gnu.org/software/octave/doc/v4.0.1/Special-Utility-Matrices.html)"
   ]
  },
  {
   "cell_type": "markdown",
   "metadata": {},
   "source": [
    "**Strings**\n",
    "\n",
    "Man kann sowohl mit `''` als auch mit `\"\"` strings definieren. Wichtig sind Strings aber eigentlich nur für Beschriftungen bei Grafiken etc.\n"
   ]
  },
  {
   "cell_type": "code",
   "execution_count": 66,
   "metadata": {},
   "outputs": [
    {
     "name": "stdout",
     "output_type": "stream",
     "text": [
      "string_1 = abc\n"
     ]
    }
   ],
   "source": [
    "string_1 = 'abc'"
   ]
  },
  {
   "cell_type": "code",
   "execution_count": 67,
   "metadata": {},
   "outputs": [
    {
     "name": "stdout",
     "output_type": "stream",
     "text": [
      "string_2 = abc\n"
     ]
    }
   ],
   "source": [
    "string_2 = \"abc\""
   ]
  },
  {
   "cell_type": "markdown",
   "metadata": {},
   "source": [
    "**Struct Datentyp**"
   ]
  },
  {
   "cell_type": "code",
   "execution_count": 43,
   "metadata": {},
   "outputs": [],
   "source": [
    "mystrct.scalar = 1;\n",
    "mystrct.matrix = [1, 2; 3, 4];\n",
    "mystrct.string = \"string\";"
   ]
  },
  {
   "cell_type": "code",
   "execution_count": 44,
   "metadata": {},
   "outputs": [
    {
     "name": "stdout",
     "output_type": "stream",
     "text": [
      "mystrct =\n",
      "\n",
      "  scalar structure containing the fields:\n",
      "\n",
      "    scalar =  1\n",
      "    matrix =\n",
      "\n",
      "       1   2\n",
      "       3   4\n",
      "\n",
      "    string = string\n",
      "\n"
     ]
    }
   ],
   "source": [
    "mystrct"
   ]
  },
  {
   "cell_type": "markdown",
   "metadata": {},
   "source": [
    "**Cell arrays**"
   ]
  },
  {
   "cell_type": "code",
   "execution_count": 70,
   "metadata": {
    "collapsed": true
   },
   "outputs": [],
   "source": [
    "c = {\"a string\", rand(2, 2)};"
   ]
  },
  {
   "cell_type": "code",
   "execution_count": 71,
   "metadata": {},
   "outputs": [
    {
     "name": "stdout",
     "output_type": "stream",
     "text": [
      "ans = a string\n"
     ]
    }
   ],
   "source": [
    "c{1}"
   ]
  },
  {
   "cell_type": "code",
   "execution_count": 72,
   "metadata": {},
   "outputs": [
    {
     "name": "stdout",
     "output_type": "stream",
     "text": [
      "ans =\n",
      "\n",
      "   0.64109   0.61802\n",
      "   0.26729   0.97550\n",
      "\n"
     ]
    }
   ],
   "source": [
    "c{2}"
   ]
  },
  {
   "cell_type": "code",
   "execution_count": 73,
   "metadata": {},
   "outputs": [
    {
     "name": "stdout",
     "output_type": "stream",
     "text": [
      "ans = a string\n",
      "ans =\n",
      "\n",
      "   0.64109   0.61802\n",
      "   0.26729   0.97550\n",
      "\n"
     ]
    }
   ],
   "source": [
    "c{1:2}"
   ]
  },
  {
   "cell_type": "markdown",
   "metadata": {},
   "source": [
    "## Arithmetische- und Vektoroperationen"
   ]
  },
  {
   "cell_type": "code",
   "execution_count": 74,
   "metadata": {},
   "outputs": [
    {
     "name": "stdout",
     "output_type": "stream",
     "text": [
      "a =\n",
      "\n",
      "   1\n",
      "   2\n",
      "   3\n",
      "   4\n",
      "\n"
     ]
    }
   ],
   "source": [
    "a = (1:4)'"
   ]
  },
  {
   "cell_type": "markdown",
   "metadata": {},
   "source": [
    "**Skalarprodukt $a^{T}a$**"
   ]
  },
  {
   "cell_type": "code",
   "execution_count": 75,
   "metadata": {},
   "outputs": [
    {
     "name": "stdout",
     "output_type": "stream",
     "text": [
      "ans =  30\n"
     ]
    }
   ],
   "source": [
    "a' * a"
   ]
  },
  {
   "cell_type": "markdown",
   "metadata": {},
   "source": [
    "**Äußeres Produkt - $aa^{T}$**"
   ]
  },
  {
   "cell_type": "code",
   "execution_count": 76,
   "metadata": {},
   "outputs": [
    {
     "name": "stdout",
     "output_type": "stream",
     "text": [
      "ans =\n",
      "\n",
      "    1    2    3    4\n",
      "    2    4    6    8\n",
      "    3    6    9   12\n",
      "    4    8   12   16\n",
      "\n"
     ]
    }
   ],
   "source": [
    "a * a'"
   ]
  },
  {
   "cell_type": "code",
   "execution_count": 77,
   "metadata": {},
   "outputs": [
    {
     "name": "stdout",
     "output_type": "stream",
     "text": [
      "A =\n",
      "\n",
      "   1   2\n",
      "   3   4\n",
      "\n"
     ]
    }
   ],
   "source": [
    "A = [1 2; 3 4]"
   ]
  },
  {
   "cell_type": "markdown",
   "metadata": {},
   "source": [
    "**Matrizenmultiplikation - $AA$**"
   ]
  },
  {
   "cell_type": "code",
   "execution_count": 78,
   "metadata": {},
   "outputs": [
    {
     "name": "stdout",
     "output_type": "stream",
     "text": [
      "ans =\n",
      "\n",
      "    7   10\n",
      "   15   22\n",
      "\n"
     ]
    }
   ],
   "source": [
    "A * A"
   ]
  },
  {
   "cell_type": "markdown",
   "metadata": {},
   "source": [
    "Die Dimensionen sollten zusammenpassen: "
   ]
  },
  {
   "cell_type": "code",
   "execution_count": 79,
   "metadata": {},
   "outputs": [
    {
     "name": "stdout",
     "output_type": "stream",
     "text": [
      "B =\n",
      "\n",
      "   1   2   3\n",
      "   4   5   6\n",
      "\n"
     ]
    }
   ],
   "source": [
    "B = [1 2 3; 4 5 6]"
   ]
  },
  {
   "cell_type": "code",
   "execution_count": 80,
   "metadata": {},
   "outputs": [
    {
     "name": "stdout",
     "output_type": "stream",
     "text": [
      "error: operator *: nonconformant arguments (op1 is 2x3, op2 is 2x2)\n"
     ]
    }
   ],
   "source": [
    "B * A"
   ]
  },
  {
   "cell_type": "markdown",
   "metadata": {},
   "source": [
    "**Matrix Vektor Multiplikation - $Xb$**"
   ]
  },
  {
   "cell_type": "code",
   "execution_count": 81,
   "metadata": {},
   "outputs": [
    {
     "name": "stdout",
     "output_type": "stream",
     "text": [
      "X =\n",
      "\n",
      "   1   2   3\n",
      "   4   5   6\n",
      "   7   8   9\n",
      "\n",
      "b =\n",
      "\n",
      "   1\n",
      "   1\n",
      "   1\n",
      "\n"
     ]
    }
   ],
   "source": [
    "X = [1:3; 4:6; 7:9]\n",
    "b = [1; 1; 1]"
   ]
  },
  {
   "cell_type": "code",
   "execution_count": 82,
   "metadata": {},
   "outputs": [
    {
     "name": "stdout",
     "output_type": "stream",
     "text": [
      "ans =\n",
      "\n",
      "    6\n",
      "   15\n",
      "   24\n",
      "\n"
     ]
    }
   ],
   "source": [
    "X*b"
   ]
  },
  {
   "cell_type": "markdown",
   "metadata": {},
   "source": [
    "**Gleichungssysteme lösen**\n",
    "$ Ax = b$ "
   ]
  },
  {
   "cell_type": "code",
   "execution_count": 24,
   "metadata": {},
   "outputs": [
    {
     "name": "stdout",
     "output_type": "stream",
     "text": [
      "b =\n",
      "\n",
      "   0.69800\n",
      "   0.23137\n",
      "   0.81096\n",
      "\n"
     ]
    }
   ],
   "source": [
    "A = rand(3);\n",
    "b = rand(3,1)"
   ]
  },
  {
   "cell_type": "code",
   "execution_count": 25,
   "metadata": {},
   "outputs": [
    {
     "name": "stdout",
     "output_type": "stream",
     "text": [
      "x =\n",
      "\n",
      "   1.109538\n",
      "  -0.096423\n",
      "  -0.156617\n",
      "\n"
     ]
    }
   ],
   "source": [
    "x = A \\ b"
   ]
  },
  {
   "cell_type": "code",
   "execution_count": 26,
   "metadata": {},
   "outputs": [
    {
     "name": "stdout",
     "output_type": "stream",
     "text": [
      "ans =\n",
      "\n",
      "   0.69800\n",
      "   0.23137\n",
      "   0.81096\n",
      "\n"
     ]
    }
   ],
   "source": [
    "A*x"
   ]
  },
  {
   "cell_type": "markdown",
   "metadata": {},
   "source": [
    "Octave hat insbesondere auch eine große Bibliothek an Funktionen für lineare Algebra, wie LU- oder QR-Zerlegungen, das Lösen von Gleichungssystemen etc.\n",
    "\n",
    "Mehr zu linearer Algebra mit Octave ist [hier](https://www.gnu.org/software/octave/doc/interpreter/Linear-Algebra.html) zu finden"
   ]
  },
  {
   "cell_type": "markdown",
   "metadata": {},
   "source": [
    "## Funktionen "
   ]
  },
  {
   "cell_type": "markdown",
   "metadata": {},
   "source": [
    "Eine einfache Funktionsdefinition sieht in Octave so aus: "
   ]
  },
  {
   "cell_type": "code",
   "execution_count": null,
   "metadata": {
    "collapsed": true
   },
   "outputs": [],
   "source": [
    "function retvar = funcname(arglist)\n",
    "  body\n",
    "endfunction"
   ]
  },
  {
   "cell_type": "markdown",
   "metadata": {},
   "source": [
    "body besteht hier aus einer Folge von Octave statements. Ein einfaches Beispiel ist"
   ]
  },
  {
   "cell_type": "code",
   "execution_count": 59,
   "metadata": {
    "collapsed": true
   },
   "outputs": [],
   "source": [
    "function retval = avg (v)\n",
    "  retval = sum (v) / length (v);\n",
    "endfunction"
   ]
  },
  {
   "cell_type": "code",
   "execution_count": 60,
   "metadata": {},
   "outputs": [
    {
     "name": "stdout",
     "output_type": "stream",
     "text": [
      "ans =  2\n"
     ]
    }
   ],
   "source": [
    "x = [1,2,3];\n",
    "avg(x)"
   ]
  },
  {
   "cell_type": "markdown",
   "metadata": {},
   "source": [
    "Die return variable kann auch eine Liste sein, und ebenso natürlich die Argumente. Mehr zu Funktionen findet ihr [hier](https://www.gnu.org/software/octave/doc/v4.0.3/Defining-Functions.html )."
   ]
  },
  {
   "cell_type": "markdown",
   "metadata": {},
   "source": [
    "## IF, FOR, WHILE"
   ]
  },
  {
   "cell_type": "markdown",
   "metadata": {},
   "source": [
    "Ein if-statement hat die Form"
   ]
  },
  {
   "cell_type": "code",
   "execution_count": null,
   "metadata": {
    "collapsed": true
   },
   "outputs": [],
   "source": [
    "if (condition)\n",
    "  then-body\n",
    "else\n",
    "  else-body\n",
    "endif"
   ]
  },
  {
   "cell_type": "markdown",
   "metadata": {},
   "source": [
    "Eine for-schleife sieht folgendermaßen aus:"
   ]
  },
  {
   "cell_type": "code",
   "execution_count": 66,
   "metadata": {},
   "outputs": [
    {
     "name": "stdout",
     "output_type": "stream",
     "text": [
      "i =  1\n",
      "i =  2\n",
      "i =  3\n",
      "i =  4\n",
      "i =  5\n",
      "\n",
      "\n",
      "j =  1\n",
      "j =  2\n",
      "j =  5\n",
      "j =  10\n"
     ]
    }
   ],
   "source": [
    "for i = 1:5\n",
    "  i\n",
    "endfor\n",
    "\n",
    "disp(\"\\n\") %disp ist eine, printfunktion, printf ist aber auch verfügbar\n",
    "\n",
    "for j = [1,2,5,10]\n",
    "    j\n",
    "endfor"
   ]
  },
  {
   "cell_type": "markdown",
   "metadata": {},
   "source": [
    "...und das while-statement hat die Gestalt"
   ]
  },
  {
   "cell_type": "code",
   "execution_count": null,
   "metadata": {
    "collapsed": true
   },
   "outputs": [],
   "source": [
    "while (condition)\n",
    "  body\n",
    "endwhile"
   ]
  },
  {
   "cell_type": "markdown",
   "metadata": {},
   "source": [
    "also beispielsweise"
   ]
  },
  {
   "cell_type": "code",
   "execution_count": 67,
   "metadata": {},
   "outputs": [
    {
     "name": "stdout",
     "output_type": "stream",
     "text": [
      "ans =  1\n",
      "ans =  2\n"
     ]
    }
   ],
   "source": [
    "i = 1; \n",
    "while(i<3)\n",
    "    i++\n",
    "endwhile"
   ]
  },
  {
   "cell_type": "markdown",
   "metadata": {},
   "source": [
    "Mehr zu control-flow ist [hier](https://www.gnu.org/software/octave/doc/v4.0.0/Statements.html) zu finden. "
   ]
  },
  {
   "cell_type": "markdown",
   "metadata": {},
   "source": [
    "## Plotten"
   ]
  },
  {
   "cell_type": "code",
   "execution_count": 47,
   "metadata": {},
   "outputs": [
    {
     "name": "stdout",
     "output_type": "stream",
     "text": [
      "x =\n",
      "\n",
      "   0.505695\n",
      "   0.095106\n",
      "   0.727034\n",
      "   0.385687\n",
      "   0.318707\n",
      "\n"
     ]
    }
   ],
   "source": [
    "x = rand(5, 1)"
   ]
  },
  {
   "cell_type": "markdown",
   "metadata": {},
   "source": [
    "**1-dimensional**"
   ]
  },
  {
   "cell_type": "code",
   "execution_count": 48,
   "metadata": {},
   "outputs": [
    {
     "data": {
      "image/png": "[encoded data removed]",
      "text/plain": [
       "<IPython.core.display.Image object>"
      ]
     },
     "metadata": {},
     "output_type": "display_data"
    }
   ],
   "source": [
    "plot(x)"
   ]
  },
  {
   "cell_type": "code",
   "execution_count": 49,
   "metadata": {},
   "outputs": [],
   "source": [
    "x = rand(100, 1);\n",
    "y = rand(100, 1);"
   ]
  },
  {
   "cell_type": "markdown",
   "metadata": {},
   "source": [
    "**2-dimensional**"
   ]
  },
  {
   "cell_type": "code",
   "execution_count": 50,
   "metadata": {},
   "outputs": [
    {
     "data": {
      "image/png": "[encoded data removed]",
      "text/plain": [
       "<IPython.core.display.Image object>"
      ]
     },
     "metadata": {},
     "output_type": "display_data"
    }
   ],
   "source": [
    "plot(x, y, '.')"
   ]
  },
  {
   "cell_type": "code",
   "execution_count": 51,
   "metadata": {},
   "outputs": [
    {
     "data": {
      "image/png": "[encoded data removed]",
      "text/plain": [
       "<IPython.core.display.Image object>"
      ]
     },
     "metadata": {},
     "output_type": "display_data"
    }
   ],
   "source": [
    "x = linspace(0, 2*pi, 50);\n",
    "y = sin(x);\n",
    "plot(x, y, '+1;sin(x);');"
   ]
  },
  {
   "cell_type": "code",
   "execution_count": 52,
   "metadata": {},
   "outputs": [
    {
     "data": {
      "image/png": "[encoded data removed]",
      "text/plain": [
       "<IPython.core.display.Image object>"
      ]
     },
     "metadata": {},
     "output_type": "display_data"
    }
   ],
   "source": [
    "x = linspace(0, 2*pi, 100);\n",
    "y = sin(x);\n",
    "y2 = cos(x);\n",
    "plot(x, y, '+1;sin(x);', \"markersize\", 10, x, y2, \";cos(x);\", \"markersize\", 5, \"marker\", '*');"
   ]
  },
  {
   "cell_type": "code",
   "execution_count": 53,
   "metadata": {},
   "outputs": [
    {
     "data": {
      "image/png": "[encoded data removed]",
      "text/plain": [
       "<IPython.core.display.Image object>"
      ]
     },
     "metadata": {},
     "output_type": "display_data"
    }
   ],
   "source": [
    "plot(x, y, '+1;sin(x);', \"markersize\", 10);\n",
    "hold on         # <--- will keep your current plot\n",
    "plot(x, y2, \";cos(x);\", \"markersize\", 5, \"marker\", '*')"
   ]
  },
  {
   "cell_type": "markdown",
   "metadata": {},
   "source": [
    "Was noch fehlt sind Achsenbeschriftungen, und eventuell ein netteres Farbschema, durchgehende Linien statt Punkten etc: "
   ]
  },
  {
   "cell_type": "code",
   "execution_count": 56,
   "metadata": {
    "scrolled": false
   },
   "outputs": [
    {
     "data": {
      "image/png": "[encoded data removed]",
      "text/plain": [
       "<IPython.core.display.Image object>"
      ]
     },
     "metadata": {},
     "output_type": "display_data"
    }
   ],
   "source": [
    "plot(\n",
    "    x, y,  \"-;sin(x);\",  \"color\", [27,158,119] ./255, \"linewidth\", 5,\n",
    "    x, y2, \"--;cos(x);\", \"color\", [117,112,179] ./255, \"linewidth\", 5);\n",
    "set(gca, 'xtick', [0, pi, 2*pi])\n",
    "set(gca, 'interpreter', 'tex')\n",
    "xlabel('{\\fontsize{30} x}')\n",
    "ylabel('{\\fontsize{30} y}')\n",
    "title('{\\fontsize{50} Sinus und Cosinus}')"
   ]
  },
  {
   "cell_type": "markdown",
   "metadata": {},
   "source": [
    "**Spalten einer Matrix als input für Plot:**"
   ]
  },
  {
   "cell_type": "code",
   "execution_count": 1,
   "metadata": {},
   "outputs": [
    {
     "name": "stdout",
     "output_type": "stream",
     "text": [
      "X =\n",
      "\n",
      "   0.2076968   2.3774825  -1.6644998   0.3120677\n",
      "   1.2433826  -0.3899325   1.4690659   0.6811347\n",
      "  -1.2511684   1.4384095  -1.2521475  -0.4844797\n",
      "  -1.4191697  -1.0268673  -1.7539299  -1.3431218\n",
      "  -0.7769468  -0.5294416  -0.7095538  -1.5780682\n",
      "  -0.5347750  -0.3869233  -0.5241037   1.0123902\n",
      "   0.0083776  -0.1626238  -1.0788506   0.5800764\n",
      "  -1.9944677   0.9136397   0.5874466   0.1336204\n",
      "   0.8696625  -0.0866681  -1.5484536   0.3376812\n",
      "   0.3168582  -0.2493764   0.7859746   1.1795414\n",
      "\n"
     ]
    }
   ],
   "source": [
    "X = randn(10, 4)"
   ]
  },
  {
   "cell_type": "code",
   "execution_count": 2,
   "metadata": {},
   "outputs": [
    {
     "data": {
      "image/png": "[encoded data removed]",
      "text/plain": [
       "<IPython.core.display.Image object>"
      ]
     },
     "metadata": {},
     "output_type": "display_data"
    }
   ],
   "source": [
    "plot(X)"
   ]
  },
  {
   "cell_type": "markdown",
   "metadata": {},
   "source": [
    "## Und jetzt? \n",
    "\n",
    "Dieses Tutorial ist nur ein kleiner Überblick - um besser mit Octave zurechtzukommen solltet Ihr euch eines der vielen anderen Tutorials im Internet oder die offizielle Dokumentation ansehen."
   ]
  }
 ],
 "metadata": {
  "kernelspec": {
   "display_name": "Octave",
   "language": "octave",
   "name": "octave"
  },
  "language_info": {
   "file_extension": ".m",
   "help_links": [
    {
     "text": "GNU Octave",
     "url": "https://www.gnu.org/software/octave/support.html"
    },
    {
     "text": "Octave Kernel",
     "url": "https://github.com/Calysto/octave_kernel"
    },
    {
     "text": "MetaKernel Magics",
     "url": "https://github.com/calysto/metakernel/blob/master/metakernel/magics/README.md"
    }
   ],
   "mimetype": "text/x-octave",
   "name": "octave",
   "version": "4.0.0"
  }
 },
 "nbformat": 4,
 "nbformat_minor": 2
}
