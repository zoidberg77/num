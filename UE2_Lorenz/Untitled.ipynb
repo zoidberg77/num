{
 "cells": [
  {
   "cell_type": "code",
   "execution_count": 10,
   "metadata": {},
   "outputs": [
    {
     "name": "stdout",
     "output_type": "stream",
     "text": [
      "A =\n",
      "\n",
      "   2  -1   1\n",
      "   1   0   1\n",
      "   3  -1   4\n",
      "\n"
     ]
    }
   ],
   "source": [
    "A = [2 -1 1; 1 0 1; 3 -1 4] # Aufgabe 14 a"
   ]
  },
  {
   "cell_type": "raw",
   "metadata": {},
   "source": []
  },
  {
   "cell_type": "code",
   "execution_count": 6,
   "metadata": {},
   "outputs": [
    {
     "name": "stdout",
     "output_type": "stream",
     "text": [
      "B =\n",
      "\n",
      "   2   1   3\n",
      "  -1   0  -1\n",
      "   1   1   4\n",
      "\n"
     ]
    }
   ],
   "source": [
    "B = transpose(A)"
   ]
  },
  {
   "cell_type": "code",
   "execution_count": 7,
   "metadata": {},
   "outputs": [
    {
     "name": "stdout",
     "output_type": "stream",
     "text": [
      "ans =\n",
      "\n",
      "   14   -5   15\n",
      "   -5    2   -5\n",
      "   15   -5   18\n",
      "\n"
     ]
    }
   ],
   "source": [
    "B*A"
   ]
  },
  {
   "cell_type": "code",
   "execution_count": 8,
   "metadata": {},
   "outputs": [
    {
     "name": "stdout",
     "output_type": "stream",
     "text": [
      "ans =\n",
      "\n",
      "    0.10703\n",
      "    1.14108\n",
      "   32.75189\n",
      "\n"
     ]
    }
   ],
   "source": [
    "eig(B*A)"
   ]
  },
  {
   "cell_type": "code",
   "execution_count": 9,
   "metadata": {},
   "outputs": [
    {
     "name": "stdout",
     "output_type": "stream",
     "text": [
      "ans =  5.7229\n"
     ]
    }
   ],
   "source": [
    "sqrt(32.75189)"
   ]
  },
  {
   "cell_type": "code",
   "execution_count": 11,
   "metadata": {
    "collapsed": true
   },
   "outputs": [],
   "source": [
    "#Aufgabe 14 b"
   ]
  },
  {
   "cell_type": "code",
   "execution_count": 14,
   "metadata": {},
   "outputs": [
    {
     "name": "stdout",
     "output_type": "stream",
     "text": [
      "ans =\n",
      "\n",
      "   0.75000  -0.25000  -0.25000\n",
      "  -0.25000   8.75000  -2.25000\n",
      "  -0.25000  -2.25000   0.75000\n",
      "\n"
     ]
    }
   ],
   "source": [
    "transpose(inverse(A))*inverse(A)"
   ]
  },
  {
   "cell_type": "code",
   "execution_count": 15,
   "metadata": {},
   "outputs": [
    {
     "name": "stdout",
     "output_type": "stream",
     "text": [
      "ans =\n",
      "\n",
      "   0.030533\n",
      "   0.876366\n",
      "   9.343102\n",
      "\n"
     ]
    }
   ],
   "source": [
    "eig(transpose(inverse(A))*inverse(A))"
   ]
  },
  {
   "cell_type": "code",
   "execution_count": 16,
   "metadata": {},
   "outputs": [
    {
     "name": "stdout",
     "output_type": "stream",
     "text": [
      "ans =  3.0566\n"
     ]
    }
   ],
   "source": [
    "sqrt(9.343102)"
   ]
  },
  {
   "cell_type": "code",
   "execution_count": 17,
   "metadata": {
    "collapsed": true
   },
   "outputs": [],
   "source": [
    "#Aufgabe 17 b\n"
   ]
  },
  {
   "cell_type": "code",
   "execution_count": 18,
   "metadata": {},
   "outputs": [
    {
     "name": "stdout",
     "output_type": "stream",
     "text": [
      "M =\n",
      "\n",
      "   1   0   0\n",
      "  -2   1   0\n",
      "   1  -2   1\n",
      "\n"
     ]
    }
   ],
   "source": [
    "M = [1 0 0; -2 1 0; 1 -2 1;]"
   ]
  },
  {
   "cell_type": "code",
   "execution_count": 19,
   "metadata": {},
   "outputs": [
    {
     "name": "stdout",
     "output_type": "stream",
     "text": [
      "ans =\n",
      "\n",
      "   1   0   0\n",
      "   2   1   0\n",
      "   3   2   1\n",
      "\n"
     ]
    }
   ],
   "source": [
    "inverse(M)"
   ]
  },
  {
   "cell_type": "code",
   "execution_count": 20,
   "metadata": {},
   "outputs": [
    {
     "name": "stdout",
     "output_type": "stream",
     "text": [
      "M1 =\n",
      "\n",
      "   1   0   0\n",
      "  -2   1   0\n",
      "  -3   0   1\n",
      "\n"
     ]
    }
   ],
   "source": [
    "M1 = [1 0 0; -2 1 0; -3 0 1;]"
   ]
  },
  {
   "cell_type": "code",
   "execution_count": 21,
   "metadata": {},
   "outputs": [
    {
     "name": "stdout",
     "output_type": "stream",
     "text": [
      "ans =\n",
      "\n",
      "   1   0   0\n",
      "   2   1   0\n",
      "   3  -0   1\n",
      "\n"
     ]
    }
   ],
   "source": [
    "inverse(M1)"
   ]
  },
  {
   "cell_type": "code",
   "execution_count": 22,
   "metadata": {},
   "outputs": [
    {
     "name": "stdout",
     "output_type": "stream",
     "text": [
      "M2 =\n",
      "\n",
      "   1   0   0\n",
      "   0   1   0\n",
      "   0  -2   1\n",
      "\n"
     ]
    }
   ],
   "source": [
    "M2 = [1 0 0; 0 1 0; 0 -2 1;]"
   ]
  },
  {
   "cell_type": "code",
   "execution_count": 23,
   "metadata": {},
   "outputs": [
    {
     "name": "stdout",
     "output_type": "stream",
     "text": [
      "ans =\n",
      "\n",
      "   1   0   0\n",
      "  -0   1   0\n",
      "  -0   2   1\n",
      "\n"
     ]
    }
   ],
   "source": [
    "inverse(M2)"
   ]
  },
  {
   "cell_type": "code",
   "execution_count": 24,
   "metadata": {},
   "outputs": [
    {
     "name": "stdout",
     "output_type": "stream",
     "text": [
      "ans =\n",
      "\n",
      "   1   0   0\n",
      "   2   1   0\n",
      "   3   2   1\n",
      "\n"
     ]
    }
   ],
   "source": [
    "inverse(M1)*inverse(M2)"
   ]
  },
  {
   "cell_type": "code",
   "execution_count": 25,
   "metadata": {},
   "outputs": [
    {
     "name": "stdout",
     "output_type": "stream",
     "text": [
      "M1_1 =\n",
      "\n",
      "   1   0   0\n",
      "  -1   1   0\n",
      "   2   0   1\n",
      "\n"
     ]
    }
   ],
   "source": [
    "M1_1 = [1 0 0; -1 1 0; 2 0 1;]"
   ]
  },
  {
   "cell_type": "code",
   "execution_count": 38,
   "metadata": {},
   "outputs": [
    {
     "name": "stdout",
     "output_type": "stream",
     "text": [
      "M2_1 =\n",
      "\n",
      "   1.00000   0.00000   0.00000\n",
      "   0.00000   1.00000   0.00000\n",
      "   0.00000   3.33333   1.00000\n",
      "\n"
     ]
    }
   ],
   "source": [
    "M2_1 = [1 0 0 ; 0 1 0; 0 10/3 1]"
   ]
  },
  {
   "cell_type": "code",
   "execution_count": 39,
   "metadata": {},
   "outputs": [
    {
     "name": "stdout",
     "output_type": "stream",
     "text": [
      "ans =\n",
      "\n",
      "   1.00000   0.00000   0.00000\n",
      "  -1.00000   1.00000   0.00000\n",
      "  -1.33333   3.33333   1.00000\n",
      "\n"
     ]
    }
   ],
   "source": [
    "M2_1*M1_1"
   ]
  },
  {
   "cell_type": "markdown",
   "metadata": {},
   "source": [
    "A1_1 = [1 3 4; 1 0 -2; -2 4 6]"
   ]
  },
  {
   "cell_type": "code",
   "execution_count": 40,
   "metadata": {},
   "outputs": [
    {
     "name": "stdout",
     "output_type": "stream",
     "text": [
      "A1_1 =\n",
      "\n",
      "   1   3   4\n",
      "   1   0  -2\n",
      "  -2   4   6\n",
      "\n"
     ]
    }
   ],
   "source": [
    "A1_1 = [1 3 4; 1 0 -2; -2 4 6]"
   ]
  },
  {
   "cell_type": "code",
   "execution_count": 42,
   "metadata": {},
   "outputs": [
    {
     "name": "stdout",
     "output_type": "stream",
     "text": [
      "ans =\n",
      "\n",
      "   1   3   4\n",
      "   0  -3  -6\n",
      "   0   0  -6\n",
      "\n"
     ]
    }
   ],
   "source": [
    "(M2_1*M1_1)*A1_1"
   ]
  },
  {
   "cell_type": "code",
   "execution_count": 33,
   "metadata": {},
   "outputs": [
    {
     "name": "stdout",
     "output_type": "stream",
     "text": [
      "ans =\n",
      "\n",
      "    1    3    4\n",
      "    0   -3   -6\n",
      "    0   10   14\n",
      "\n"
     ]
    }
   ],
   "source": [
    "M1_1*A1_1"
   ]
  },
  {
   "cell_type": "code",
   "execution_count": null,
   "metadata": {
    "collapsed": true
   },
   "outputs": [],
   "source": []
  }
 ],
 "metadata": {
  "kernelspec": {
   "display_name": "Octave",
   "language": "octave",
   "name": "octave"
  },
  "language_info": {
   "file_extension": ".m",
   "help_links": [
    {
     "text": "GNU Octave",
     "url": "https://www.gnu.org/software/octave/support.html"
    },
    {
     "text": "Octave Kernel",
     "url": "https://github.com/Calysto/octave_kernel"
    },
    {
     "text": "MetaKernel Magics",
     "url": "https://github.com/calysto/metakernel/blob/master/metakernel/magics/README.md"
    }
   ],
   "mimetype": "text/x-octave",
   "name": "octave",
   "version": "4.0.0"
  }
 },
 "nbformat": 4,
 "nbformat_minor": 2
}
