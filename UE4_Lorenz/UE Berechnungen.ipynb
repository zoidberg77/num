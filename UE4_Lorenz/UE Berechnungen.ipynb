{
 "cells": [
  {
   "cell_type": "code",
   "execution_count": 11,
   "metadata": {},
   "outputs": [],
   "source": [
    "#Beispiel 31\n",
    "function xkplus1 = newton_f(xk)\n",
    "    xkplus1 = xk - (xk + exp(xk) -2)/(1 + exp(xk));\n",
    "    return\n",
    "endfunction"
   ]
  },
  {
   "cell_type": "code",
   "execution_count": 10,
   "metadata": {},
   "outputs": [
    {
     "name": "stdout",
     "output_type": "stream",
     "text": [
      "xkplus1 =  0.50000\n",
      "xkplus1 =  0.44385\n",
      "xkplus1 =  0.44285\n",
      "xkplus1 =  0.44285\n",
      "xkplus1 =  0.44285\n",
      "xkplus1 =  0.44285\n",
      "xkplus1 =  0.44285\n"
     ]
    }
   ],
   "source": [
    "newton_f(newton_f(newton_f(newton_f(newton_f(newton_f(newton_f(0)))))));"
   ]
  },
  {
   "cell_type": "code",
   "execution_count": 31,
   "metadata": {
    "collapsed": true
   },
   "outputs": [],
   "source": [
    "#Beispiel 32\n",
    "function y = f(x)\n",
    "    y = x + exp(x) - 2;\n",
    "    return\n",
    "endfunction"
   ]
  },
  {
   "cell_type": "code",
   "execution_count": 43,
   "metadata": {},
   "outputs": [
    {
     "name": "stdout",
     "output_type": "stream",
     "text": [
      "ans =  0.026281\n"
     ]
    }
   ],
   "source": [
    "f(0.45310)"
   ]
  },
  {
   "cell_type": "code",
   "execution_count": 45,
   "metadata": {},
   "outputs": [
    {
     "name": "stdout",
     "output_type": "stream",
     "text": [
      "ans =  0.46090\n"
     ]
    }
   ],
   "source": [
    "(0.4687+0.45310)/2"
   ]
  },
  {
   "cell_type": "code",
   "execution_count": 70,
   "metadata": {
    "collapsed": true
   },
   "outputs": [],
   "source": [
    "#Beispiel 33\n",
    "function y = g(x)\n",
    "    y = 1 + x + (1/3)*x^2;\n",
    "    return\n",
    "endfunction"
   ]
  },
  {
   "cell_type": "code",
   "execution_count": 81,
   "metadata": {},
   "outputs": [
    {
     "name": "stdout",
     "output_type": "stream",
     "text": [
      "ans =  6.4397\n"
     ]
    }
   ],
   "source": [
    "g(g(g(g(-1.5))))"
   ]
  },
  {
   "cell_type": "code",
   "execution_count": 76,
   "metadata": {},
   "outputs": [
    {
     "name": "stdout",
     "output_type": "stream",
     "text": [
      "ans =  3.7322\n"
     ]
    }
   ],
   "source": [
    "g(1.7321)"
   ]
  },
  {
   "cell_type": "code",
   "execution_count": null,
   "metadata": {
    "collapsed": true
   },
   "outputs": [],
   "source": []
  }
 ],
 "metadata": {
  "kernelspec": {
   "display_name": "Octave",
   "language": "octave",
   "name": "octave"
  },
  "language_info": {
   "file_extension": ".m",
   "help_links": [
    {
     "text": "GNU Octave",
     "url": "https://www.gnu.org/software/octave/support.html"
    },
    {
     "text": "Octave Kernel",
     "url": "https://github.com/Calysto/octave_kernel"
    },
    {
     "text": "MetaKernel Magics",
     "url": "https://github.com/calysto/metakernel/blob/master/metakernel/magics/README.md"
    }
   ],
   "mimetype": "text/x-octave",
   "name": "octave",
   "version": "4.2.1"
  }
 },
 "nbformat": 4,
 "nbformat_minor": 2
}
