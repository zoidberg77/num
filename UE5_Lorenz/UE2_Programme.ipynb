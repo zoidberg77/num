{
 "cells": [
  {
   "cell_type": "code",
   "execution_count": 28,
   "metadata": {
    "collapsed": true
   },
   "outputs": [],
   "source": [
    "function returnValue = arithmeticMean(v) #BEGINN AUFGABE 19, A)\n",
    "    returnValue = 0;\n",
    "    for i = [1:length(v)]\n",
    "        returnValue = returnValue + v(i);\n",
    "    endfor\n",
    "    returnValue = returnValue/length(v);\n",
    "    return\n",
    "endfunction"
   ]
  },
  {
   "cell_type": "code",
   "execution_count": 7,
   "metadata": {
    "collapsed": true
   },
   "outputs": [],
   "source": [
    "#Beispielfunktion:\n",
    "#function retval = any_nonzero (v)\n",
    "#  retval = 0;\n",
    "#  for i = 1:length (v)\n",
    "#    if (v (i) != 0)\n",
    "#      retval = 1;\n",
    "#      return;\n",
    "#    endif\n",
    "#  endfor\n",
    "#  printf (\"no nonzero elements found\\n\");\n",
    "#endfunction"
   ]
  },
  {
   "cell_type": "code",
   "execution_count": 360,
   "metadata": {
    "collapsed": true
   },
   "outputs": [],
   "source": [
    "function returnValue = randomVector(n, l, u) #length, mean (arithmetisches Mittel), deviation (die wurzel aus der Varianz)\n",
    "    returnValue = [1:n];\n",
    "    for i =[1:n];\n",
    "        returnValue(i) = normrnd(l,u);\n",
    "    endfor\n",
    "    return;\n",
    "endfunction"
   ]
  },
  {
   "cell_type": "code",
   "execution_count": 185,
   "metadata": {
    "collapsed": true
   },
   "outputs": [],
   "source": [
    "v = randomVector(20000, 5, 20); #Wir sehen: für n gegen 10000 konvergieren die Varianzen sehr schnell gegen deviation^2"
   ]
  },
  {
   "cell_type": "code",
   "execution_count": 359,
   "metadata": {
    "collapsed": true
   },
   "outputs": [],
   "source": [
    "function returnValue = variance1(v) #Varianz 1\n",
    "    returnValue = 0;\n",
    "    arithmeticMean = arithmeticMean(v);\n",
    "    for i = [1:length(v)]\n",
    "        returnValue = returnValue + (v(i) - arithmeticMean)^2;\n",
    "    endfor\n",
    "    returnValue = returnValue/length(v);\n",
    "    return\n",
    "endfunction\n",
    "    "
   ]
  },
  {
   "cell_type": "code",
   "execution_count": 187,
   "metadata": {},
   "outputs": [
    {
     "name": "stdout",
     "output_type": "stream",
     "text": [
      "ans =  400.76\n"
     ]
    }
   ],
   "source": [
    "variance1(v)"
   ]
  },
  {
   "cell_type": "code",
   "execution_count": 358,
   "metadata": {
    "collapsed": true
   },
   "outputs": [],
   "source": [
    "function returnValue = variance2(v) #Varianz 2\n",
    "    returnValue = 0;\n",
    "    left = 0;\n",
    "    right  = 0;\n",
    "    for i = [1:length(v)]\n",
    "        left += v(i)^2;\n",
    "        right += v(i);\n",
    "    endfor\n",
    "    left /= length(v);\n",
    "    right = (right/length(v))^2;\n",
    "    returnValue = left - right;\n",
    "    return\n",
    "endfunction"
   ]
  },
  {
   "cell_type": "code",
   "execution_count": 188,
   "metadata": {},
   "outputs": [
    {
     "name": "stdout",
     "output_type": "stream",
     "text": [
      "ans =  400.76\n"
     ]
    }
   ],
   "source": [
    "variance2(v)"
   ]
  },
  {
   "cell_type": "code",
   "execution_count": 193,
   "metadata": {},
   "outputs": [
    {
     "name": "stdout",
     "output_type": "stream",
     "text": [
      "400.7638195768479931757610756903886795043945\n"
     ]
    }
   ],
   "source": [
    "printf('%.40f\\n',variance1(v)) #Zeig die Nachkommastellen"
   ]
  },
  {
   "cell_type": "code",
   "execution_count": 192,
   "metadata": {},
   "outputs": [
    {
     "name": "stdout",
     "output_type": "stream",
     "text": [
      "400.7638195768487321402062661945819854736328\n"
     ]
    }
   ],
   "source": [
    "printf('%.40f\\n', variance2(v))"
   ]
  },
  {
   "cell_type": "code",
   "execution_count": 342,
   "metadata": {},
   "outputs": [
    {
     "name": "stdout",
     "output_type": "stream",
     "text": [
      "400.7838587697864340952946804463863372802734\n"
     ]
    }
   ],
   "source": [
    "printf('%.40f\\n', var(v)) #Das Ergebnis von der in Octave implementierten Funktion"
   ]
  },
  {
   "cell_type": "code",
   "execution_count": 356,
   "metadata": {
    "collapsed": true
   },
   "outputs": [],
   "source": [
    "function retVal = absoluteError(approx, true)\n",
    "    retVal = sqrt((approx - true)^2);\n",
    "    return;\n",
    "endfunction"
   ]
  },
  {
   "cell_type": "code",
   "execution_count": 357,
   "metadata": {
    "collapsed": true
   },
   "outputs": [],
   "source": [
    "function retVal = relativeError(approx,true)\n",
    "    retVal = sqrt((absoluteError(approx,true) / true)^2);\n",
    "    return;\n",
    "endfunction"
   ]
  },
  {
   "cell_type": "code",
   "execution_count": 340,
   "metadata": {},
   "outputs": [
    {
     "name": "stdout",
     "output_type": "stream",
     "text": [
      "0.7638195768479931757610756903886795043945\n"
     ]
    }
   ],
   "source": [
    "printf('%.40f\\n', absoluteError(variance1(v), 20^2))"
   ]
  },
  {
   "cell_type": "code",
   "execution_count": 339,
   "metadata": {},
   "outputs": [
    {
     "name": "stdout",
     "output_type": "stream",
     "text": [
      "0.7638195768487321402062661945819854736328\n"
     ]
    }
   ],
   "source": [
    "printf('%.40f\\n', absoluteError(variance2(v), 20^2))"
   ]
  },
  {
   "cell_type": "code",
   "execution_count": 644,
   "metadata": {
    "collapsed": true
   },
   "outputs": [],
   "source": [
    "#ENDE AUFGABE 19 A)\n",
    "#BEGINN AUFGABE 19, B)"
   ]
  },
  {
   "cell_type": "code",
   "execution_count": 208,
   "metadata": {
    "collapsed": true
   },
   "outputs": [],
   "source": [
    "#Wir plotten den absoluten bzw relativen Fehler als Funktion von n. \n",
    "#dafür benötigen wir eine Funktion, die das ausrechnet. Deveation (== sqrt(Varianz)) und Mean halten wir fest,\n",
    "#n varieren wir. deveation = 20, mean = 5, n ist die \"laufnummer\""
   ]
  },
  {
   "cell_type": "code",
   "execution_count": 627,
   "metadata": {
    "collapsed": true
   },
   "outputs": [],
   "source": [
    "function result = absoluteErrorVariance1(sampleSize, armean, deveation)\n",
    "    n = sampleSize;\n",
    "    result = (1:n);\n",
    "    for i = [1:n]\n",
    "        workingVector = randomVector(i, armean, deveation);\n",
    "        result(i) = absoluteError(variance1(workingVector), deveation.^2);\n",
    "    endfor\n",
    "    return;\n",
    "endfunction;\n",
    "\n",
    "function result = relativeErrorVariance1(sampleSize, armean, deveation)\n",
    "    n = sampleSize;\n",
    "    result = (1:n);\n",
    "    for i = [1:n]\n",
    "        workingVector = randomVector(i, armean, deveation);\n",
    "        result(i) = relativeError(variance1(workingVector), deveation.^2);\n",
    "    endfor\n",
    "    return;\n",
    "endfunction;"
   ]
  },
  {
   "cell_type": "code",
   "execution_count": 628,
   "metadata": {
    "collapsed": true
   },
   "outputs": [],
   "source": [
    "function result = absoluteErrorVariance2(sampleSize, armean, deveation)\n",
    "    n = sampleSize;\n",
    "    result = (1:n);\n",
    "    for i = [1:n]\n",
    "        workingVector = randomVector(i, armean, deveation);\n",
    "        result(i) = absoluteError(variance2(workingVector), deveation.^2);\n",
    "    endfor\n",
    "    return;\n",
    "endfunction;\n",
    "\n",
    "function result = relativeErrorVariance2(sampleSize, armean, deveation)\n",
    "    n = sampleSize;\n",
    "    result = (1:n);\n",
    "    for i = [1:n]\n",
    "        workingVector = randomVector(i, armean, deveation);\n",
    "        result(i) = relativeError(variance2(workingVector), deveation.^2);\n",
    "    endfor\n",
    "    return;\n",
    "endfunction;"
   ]
  },
  {
   "cell_type": "code",
   "execution_count": 643,
   "metadata": {},
   "outputs": [
    {
     "name": "stdout",
     "output_type": "stream",
     "text": [
      "\n"
     ]
    }
   ],
   "source": [
    "#res1 = absoluteErrorVariance1(300,3,5);\n",
    "#res2 = absoluteErrorVariance2(300,3,5);\n",
    "res3 = relativeErrorVariance1(1000,3,5);\n",
    "res4 = relativeErrorVariance2(1000,3,5);\n",
    "\n",
    "#Beide absoluten Fehler im selben Plot\n",
    "#x = (1:300);\n",
    "#y = res1;\n",
    "#yn = res2;\n",
    "#plot(x,y,'-', yn, '-');\n",
    "\n",
    "#Plot der Differenz der absoluten Fehler\n",
    "#diff =  res2 - res1;\n",
    "#plot(diff);\n",
    "\n",
    "#plot(res4, '-');\n",
    "#plot(res3, '-');"
   ]
  },
  {
   "cell_type": "code",
   "execution_count": 640,
   "metadata": {},
   "outputs": [
    {
     "data": {
      "image/png": "[encoded data removed]",
      "text/plain": [
       "<IPython.core.display.Image object>"
      ]
     },
     "metadata": {},
     "output_type": "display_data"
    }
   ],
   "source": [
    "plot(res4, '-'); #Varianzfunktion 2"
   ]
  },
  {
   "cell_type": "code",
   "execution_count": 641,
   "metadata": {},
   "outputs": [
    {
     "data": {
      "image/png": "[encoded data removed]",
      "text/plain": [
       "<IPython.core.display.Image object>"
      ]
     },
     "metadata": {},
     "output_type": "display_data"
    }
   ],
   "source": [
    "plot(res3, '-'); #Varianzfunktion 1"
   ]
  },
  {
   "cell_type": "code",
   "execution_count": 645,
   "metadata": {
    "collapsed": true
   },
   "outputs": [],
   "source": [
    "#ENDE AUFGABE 19 B)\n",
    "#AUFGABE C:\n",
    "#Der Grund fuer die Differenz bei den Ergebnissen liegt offenbar darin, dass in Fromel 1 viele Werte,\n",
    "#die nahe bei 0 liegen subtrahiert, quadriert und dann summiert werden. Durch die Nähe zur 0 der Werte\n",
    "#und damit die Nähe zur Maschinengenauigkeit (Maschinenepsilon) kann es leicht zu Ungenauigkeiten kommen,\n",
    "#da a) bei sehr kleinen Werten der Computer entweder 0 nimmt statt dem Wert oder b) auf die nächste\n",
    "#darstellbare Maschinenzahl gerundet werden muss.\n",
    "#Bei Berechnungsvariante 2 ist das nicht der Fall: wir summieren und quadrieren \"große\" zahlen, bevor wir die Differenz\n",
    "#Ergebnisse dieser Operationen bilden, die dann wieder in die gefährliche Nähe zur 0 kommen kann."
   ]
  },
  {
   "cell_type": "code",
   "execution_count": 646,
   "metadata": {
    "collapsed": true
   },
   "outputs": [],
   "source": [
    "#BEGINN AUFGABE 20 A);"
   ]
  },
  {
   "cell_type": "code",
   "execution_count": 2,
   "metadata": {
    "collapsed": true
   },
   "outputs": [],
   "source": [
    "A = [1 1 1; #Sei A eine obere Dreiecksmatrix\n",
    "     0 2 1; \n",
    "     0 0 3];\n",
    "            \n",
    "b = [3 3 3];"
   ]
  },
  {
   "cell_type": "code",
   "execution_count": 84,
   "metadata": {
    "collapsed": true
   },
   "outputs": [],
   "source": [
    "function resx = solveAx_b(A, b) #Matrix A, Vektor b, Lösung resx\n",
    "    resx = zeros(1, size(b)(2));\n",
    "    j = rows(A);\n",
    "    while j >= 1\n",
    "        if A(j,j) == 0\n",
    "            return\n",
    "        endif\n",
    "        resx(j) = b(j)/A(j,j);\n",
    "        for i = [1:j-1]\n",
    "            b(i) = b(i) - A(i,j)*resx(j);\n",
    "        endfor\n",
    "        j = j - 1;\n",
    "    endwhile\n",
    "    return\n",
    "endfunction"
   ]
  },
  {
   "cell_type": "code",
   "execution_count": 102,
   "metadata": {},
   "outputs": [
    {
     "name": "stdout",
     "output_type": "stream",
     "text": [
      "ans =\n",
      "\n",
      "   1   1   1\n",
      "\n"
     ]
    }
   ],
   "source": [
    "solveAx_b(A,b) #Loesung ist bestimmt korrekt - kann man im Kopf rechnen"
   ]
  },
  {
   "cell_type": "code",
   "execution_count": 3,
   "metadata": {},
   "outputs": [
    {
     "name": "stdout",
     "output_type": "stream",
     "text": [
      "x =\n",
      "\n",
      "   0.33333\n",
      "   0.33333\n",
      "   0.33333\n",
      "\n"
     ]
    }
   ],
   "source": [
    "x = A/b"
   ]
  },
  {
   "cell_type": "code",
   "execution_count": null,
   "metadata": {
    "collapsed": true
   },
   "outputs": [],
   "source": []
  }
 ],
 "metadata": {
  "kernelspec": {
   "display_name": "Octave",
   "language": "octave",
   "name": "octave"
  },
  "language_info": {
   "file_extension": ".m",
   "help_links": [
    {
     "text": "GNU Octave",
     "url": "https://www.gnu.org/software/octave/support.html"
    },
    {
     "text": "Octave Kernel",
     "url": "https://github.com/Calysto/octave_kernel"
    },
    {
     "text": "MetaKernel Magics",
     "url": "https://github.com/calysto/metakernel/blob/master/metakernel/magics/README.md"
    }
   ],
   "mimetype": "text/x-octave",
   "name": "octave",
   "version": "4.2.1"
  }
 },
 "nbformat": 4,
 "nbformat_minor": 2
}
