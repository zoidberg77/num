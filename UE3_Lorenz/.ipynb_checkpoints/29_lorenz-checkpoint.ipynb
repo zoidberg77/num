{
 "cells": [
  {
   "cell_type": "code",
   "execution_count": 1,
   "metadata": {
    "collapsed": true
   },
   "outputs": [],
   "source": [
    "V = csvread('height.csv'); #value pairs"
   ]
  },
  {
   "cell_type": "code",
   "execution_count": 142,
   "metadata": {
    "collapsed": true
   },
   "outputs": [],
   "source": [
    "A = zeros(rows(V),3); #make Matrix A for polynomial fitting\n",
    "    for i=[1:rows(V)]\n",
    "        A(i,1) = 1;\n",
    "        A(i,2) = V(i,1);\n",
    "        A(i,3) = V(i,1)^2; #pow2(x) doesnt always equal x^2 for some reason be careful\n",
    "    endfor"
   ]
  },
  {
   "cell_type": "code",
   "execution_count": 15,
   "metadata": {
    "collapsed": true
   },
   "outputs": [],
   "source": [
    "b = zeros(rows(V),1); #read b\n",
    "    for i=[1:rows(V)]\n",
    "        b(i) = V(i,2);\n",
    "    endfor"
   ]
  },
  {
   "cell_type": "code",
   "execution_count": 19,
   "metadata": {
    "collapsed": true
   },
   "outputs": [],
   "source": [
    "A_norm = transpose(A)*A; #make A^TxA = A^Txb normal equotations\n",
    "b_norm = transpose(A)*b;"
   ]
  },
  {
   "cell_type": "code",
   "execution_count": 20,
   "metadata": {
    "collapsed": true
   },
   "outputs": [],
   "source": [
    "[L,U,P] = lu(A_norm); #LU decomposition - with projection matrx P"
   ]
  },
  {
   "cell_type": "code",
   "execution_count": 21,
   "metadata": {
    "collapsed": true
   },
   "outputs": [],
   "source": [
    "U = transpose(L); #Cholesky factorization -> U = L^T"
   ]
  },
  {
   "cell_type": "code",
   "execution_count": 147,
   "metadata": {
    "collapsed": true
   },
   "outputs": [],
   "source": [
    "y=L\\P*b_norm; #solve lower traingular matrix. dont forget projection matrix"
   ]
  },
  {
   "cell_type": "code",
   "execution_count": 148,
   "metadata": {},
   "outputs": [
    {
     "name": "stdout",
     "output_type": "stream",
     "text": [
      "x =\n",
      "\n",
      "   3.2007e+04\n",
      "   8.0058e+01\n",
      "  -7.9025e+00\n",
      "\n"
     ]
    }
   ],
   "source": [
    "x=U\\y;     #solve upper triangular matrix\n",
    "x = x/1000 #result probably in millimeters not meters, \n",
    "           #otherwise acceleration would be to fast for anything but a black hole"
   ]
  },
  {
   "cell_type": "code",
   "execution_count": 134,
   "metadata": {
    "collapsed": true
   },
   "outputs": [],
   "source": [
    "function res = plotable_trajectory (x0, v0, g, t) #no atmospheric resistance  \n",
    "    res = (1:(t+1));                              # r(t) = x0 + v0*t + 0.5*g*t^2\n",
    "    for i = [0:t]\n",
    "        res(i+1) = x0 + v0*i + 0.5 * g* i^2;\n",
    "    endfor\n",
    "    return\n",
    "endfunction"
   ]
  },
  {
   "cell_type": "code",
   "execution_count": 149,
   "metadata": {},
   "outputs": [
    {
     "data": {
      "image/png": "[encoded data removed]",
      "text/plain": [
       "<IPython.core.display.Image object>"
      ]
     },
     "metadata": {},
     "output_type": "display_data"
    }
   ],
   "source": [
    "plot(plotable_trajectory(x(1), x(2), x(3), 101 ));"
   ]
  },
  {
   "cell_type": "code",
   "execution_count": 135,
   "metadata": {
    "collapsed": true
   },
   "outputs": [],
   "source": [
    "#possibly venus or uranus? they come closest with 8,87 m/s^2 gravitational acceleration\n",
    "#according to wikipedia"
   ]
  },
  {
   "cell_type": "code",
   "execution_count": null,
   "metadata": {
    "collapsed": true
   },
   "outputs": [],
   "source": []
  }
 ],
 "metadata": {
  "kernelspec": {
   "display_name": "Octave",
   "language": "octave",
   "name": "octave"
  },
  "language_info": {
   "file_extension": ".m",
   "help_links": [
    {
     "text": "GNU Octave",
     "url": "https://www.gnu.org/software/octave/support.html"
    },
    {
     "text": "Octave Kernel",
     "url": "https://github.com/Calysto/octave_kernel"
    },
    {
     "text": "MetaKernel Magics",
     "url": "https://github.com/calysto/metakernel/blob/master/metakernel/magics/README.md"
    }
   ],
   "mimetype": "text/x-octave",
   "name": "octave",
   "version": "4.2.1"
  }
 },
 "nbformat": 4,
 "nbformat_minor": 2
}
