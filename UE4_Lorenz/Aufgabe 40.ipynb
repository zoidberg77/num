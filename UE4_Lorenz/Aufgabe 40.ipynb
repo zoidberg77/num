{
 "cells": [
  {
   "cell_type": "code",
   "execution_count": 23,
   "metadata": {
    "collapsed": true
   },
   "outputs": [],
   "source": [
    "function y = func_a(x)\n",
    "    y = x^3 - 2*x - 5;\n",
    "    return;\n",
    "endfunction\n",
    "\n",
    "function y = func_a_derived(x)\n",
    "    y = 3*x^2 - 2;\n",
    "    return;\n",
    "endfunction\n",
    "\n",
    "\n",
    "\n",
    "\n",
    "function y = func_b(x) #  keine reellen nullstellen\n",
    "    y = exp(-x) - x;\n",
    "    return;\n",
    "endfunction\n",
    "\n",
    "function y = func_b_derived(x)\n",
    "    y = -exp(-x) - 1;\n",
    "    return;\n",
    "endfunction\n",
    "\n",
    "\n",
    "\n",
    "\n",
    "function y = func_c(x)\n",
    "    y = x^3 - 3*x^2 + 3*x -1;\n",
    "    return;\n",
    "endfunction\n",
    "\n",
    "function y = func_c_derived(x)\n",
    "    y = 3*x^2 - 6*x^1 + 3;\n",
    "    return;\n",
    "endfunction"
   ]
  },
  {
   "cell_type": "code",
   "execution_count": 16,
   "metadata": {},
   "outputs": [],
   "source": [
    "function x0 = newton(func, func_derived, start, iterations) # newton verfahren\n",
    "    x0 = start;\n",
    "    for i = 1:iterations\n",
    "        x0 = x0 - func(x0)/func_derived(x0);\n",
    "    endfor\n",
    "    return;\n",
    "endfunction"
   ]
  },
  {
   "cell_type": "code",
   "execution_count": 19,
   "metadata": {},
   "outputs": [
    {
     "name": "stdout",
     "output_type": "stream",
     "text": [
      "2.0945514815423265098104366188636049628258\n"
     ]
    }
   ],
   "source": [
    "printf('%.40f\\n', newton(@func_a, @func_a_derived, 10, 100))"
   ]
  },
  {
   "cell_type": "code",
   "execution_count": 21,
   "metadata": {},
   "outputs": [
    {
     "name": "stdout",
     "output_type": "stream",
     "text": [
      "0.5671432904097838401114017869986128062010\n"
     ]
    }
   ],
   "source": [
    "printf('%.40f\\n', newton(@func_b, @func_b_derived, 10, 100))"
   ]
  },
  {
   "cell_type": "code",
   "execution_count": 24,
   "metadata": {},
   "outputs": [
    {
     "name": "stdout",
     "output_type": "stream",
     "text": [
      "1.0000071105183048203457474301103502511978\n"
     ]
    }
   ],
   "source": [
    "printf('%.40f\\n', newton(@func_c, @func_c_derived, 10, 100))"
   ]
  },
  {
   "cell_type": "code",
   "execution_count": 111,
   "metadata": {},
   "outputs": [],
   "source": [
    "function xk = sekanten(func, start, start_plus_1, iterations)\n",
    "    xk_minus_1 = start;\n",
    "    xk = start_plus_1;\n",
    "    for i = 1:iterations\n",
    "        xk_old = xk;\n",
    "        xk = xk - func(xk) * (xk - xk_minus_1)/(func(xk) - func(xk_minus_1));\n",
    "        xk_minus_1 = xk_old;\n",
    "        if (isnan(xk)) \n",
    "            xk = xk_minus_1;\n",
    "            break;\n",
    "        endif\n",
    "    endfor\n",
    "    return\n",
    "endfunction\n",
    "# funktioniert - aber wäre schöner ohne division by zero"
   ]
  },
  {
   "cell_type": "code",
   "execution_count": 112,
   "metadata": {},
   "outputs": [
    {
     "name": "stdout",
     "output_type": "stream",
     "text": [
      "warning: division by zero\n",
      "warning: called from\n",
      "    sekanten at line 6 column 12\n",
      "2.0945514815423265098104366188636049628258\n"
     ]
    }
   ],
   "source": [
    "printf('%.40f\\n', sekanten(@func_a, -10, 20, 200)) "
   ]
  },
  {
   "cell_type": "code",
   "execution_count": 113,
   "metadata": {},
   "outputs": [
    {
     "name": "stdout",
     "output_type": "stream",
     "text": [
      "warning: division by zero\n",
      "warning: called from\n",
      "    sekanten at line 6 column 12\n",
      "0.5671432904097838401114017869986128062010\n"
     ]
    }
   ],
   "source": [
    "printf('%.40f\\n', sekanten(@func_b, -10, 20, 200)) "
   ]
  },
  {
   "cell_type": "code",
   "execution_count": 114,
   "metadata": {},
   "outputs": [
    {
     "name": "stdout",
     "output_type": "stream",
     "text": [
      "warning: division by zero\n",
      "warning: called from\n",
      "    sekanten at line 6 column 12\n",
      "0.9999950160678775512579363748955074697733\n"
     ]
    }
   ],
   "source": [
    "printf('%.40f\\n', sekanten(@func_c, -10, 20, 200)) "
   ]
  },
  {
   "cell_type": "code",
   "execution_count": null,
   "metadata": {
    "collapsed": true
   },
   "outputs": [],
   "source": []
  }
 ],
 "metadata": {
  "kernelspec": {
   "display_name": "Octave",
   "language": "octave",
   "name": "octave"
  },
  "language_info": {
   "file_extension": ".m",
   "help_links": [
    {
     "text": "GNU Octave",
     "url": "https://www.gnu.org/software/octave/support.html"
    },
    {
     "text": "Octave Kernel",
     "url": "https://github.com/Calysto/octave_kernel"
    },
    {
     "text": "MetaKernel Magics",
     "url": "https://github.com/calysto/metakernel/blob/master/metakernel/magics/README.md"
    }
   ],
   "mimetype": "text/x-octave",
   "name": "octave",
   "version": "4.2.1"
  }
 },
 "nbformat": 4,
 "nbformat_minor": 2
}
