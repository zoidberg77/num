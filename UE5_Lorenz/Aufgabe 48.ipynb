{
 "cells": [
  {
   "cell_type": "code",
   "execution_count": 1,
   "metadata": {},
   "outputs": [
    {
     "name": "stdout",
     "output_type": "stream",
     "text": [
      "x =\n",
      "\n",
      "    -0.00000\n",
      "     0.12832\n",
      "     0.55425\n",
      "   191.85012\n",
      "   343.22404\n",
      "   895.85480\n",
      "\n",
      "ans =\n",
      "\n",
      "   0.0000e+00\n",
      "   7.3631e+01\n",
      "   1.4316e+03\n",
      "   7.4524e+06\n",
      "   1.5947e+07\n",
      "   5.5291e+07\n",
      "\n"
     ]
    },
    {
     "data": {
      "image/png": "[encoded data removed]",
      "text/plain": [
       "<IPython.core.display.Image object>"
      ]
     },
     "metadata": {},
     "output_type": "display_data"
    }
   ],
   "source": [
    "##Aufgabe 48 Lösungmöglichkeit 1\n",
    "function result = monomialBaseInterpolation(t, y, minVal, maxVal)\n",
    "    degreePlusOne = 1;\n",
    "    if (length(t) == length(y)) degreePlusOne = (length(t));\n",
    "    ##calculate coeficients\n",
    "        A = zeros(degreePlusOne);\n",
    "        for i = [1:degreePlusOne]\n",
    "            for j = [1:degreePlusOne]\n",
    "                A(i,j) = t(i)**(j-1);\n",
    "                i;\n",
    "                j;\n",
    "            endfor\n",
    "        endfor\n",
    "        x = A/y\n",
    "        A*x\n",
    "    ##calculate result for range [minVal, maxVal] for coefficient vector x\n",
    "    result = zeros(1,maxVal);\n",
    "    cnt = minVal;\n",
    "    while(cnt < maxVal)\n",
    "        for i = [1:degreePlusOne] \n",
    "            result(cnt-minVal+1) += (cnt**(i-1))*x(i) ;\n",
    "        endfor\n",
    "        cnt += 1;\n",
    "    endwhile\n",
    "    endif\n",
    "    return\n",
    "endfunction\n",
    "t = [0.0, 0.5, 1.0, 6.0, 7.0, 9.0];\n",
    "y = [0.0, 1.6, 2.0, 2.0, 1.5, 0.0];\n",
    "plot(monomialBaseInterpolation(t,y,0,9), '-', y, '*')"
   ]
  },
  {
   "cell_type": "code",
   "execution_count": null,
   "metadata": {
    "collapsed": true
   },
   "outputs": [],
   "source": [
    "##Aufgabe 48 Lösungmöglichkeit 2\n"
   ]
  },
  {
   "cell_type": "code",
   "execution_count": null,
   "metadata": {
    "collapsed": true
   },
   "outputs": [],
   "source": []
  }
 ],
 "metadata": {
  "kernelspec": {
   "display_name": "Octave",
   "language": "octave",
   "name": "octave"
  },
  "language_info": {
   "file_extension": ".m",
   "help_links": [
    {
     "text": "GNU Octave",
     "url": "https://www.gnu.org/software/octave/support.html"
    },
    {
     "text": "Octave Kernel",
     "url": "https://github.com/Calysto/octave_kernel"
    },
    {
     "text": "MetaKernel Magics",
     "url": "https://github.com/calysto/metakernel/blob/master/metakernel/magics/README.md"
    }
   ],
   "mimetype": "text/x-octave",
   "name": "octave",
   "version": "4.2.1"
  }
 },
 "nbformat": 4,
 "nbformat_minor": 2
}
