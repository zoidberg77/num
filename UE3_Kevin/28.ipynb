{
 "cells": [
  {
   "cell_type": "code",
   "execution_count": 42,
   "metadata": {
    "collapsed": true
   },
   "outputs": [],
   "source": [
    "function res=powerIt(A,v,k)\n",
    "    res = v;\n",
    "    for i = [1:k]\n",
    "        res = A*res;\n",
    "        res = res/norm(res, inf);\n",
    "    endfor\n",
    "    return\n",
    "endfunction"
   ]
  },
  {
   "cell_type": "code",
   "execution_count": 39,
   "metadata": {
    "collapsed": true
   },
   "outputs": [],
   "source": [
    "x = [0;1;];"
   ]
  },
  {
   "cell_type": "code",
   "execution_count": 44,
   "metadata": {
    "collapsed": true
   },
   "outputs": [],
   "source": [
    "C = [3 1; 1 3];"
   ]
  },
  {
   "cell_type": "code",
   "execution_count": 45,
   "metadata": {},
   "outputs": [
    {
     "name": "stdout",
     "output_type": "stream",
     "text": [
      "ans =\n",
      "\n",
      "   0.99610\n",
      "   1.00000\n",
      "\n"
     ]
    }
   ],
   "source": [
    "powerIt(C,x,9)"
   ]
  },
  {
   "cell_type": "code",
   "execution_count": 47,
   "metadata": {
    "collapsed": true
   },
   "outputs": [],
   "source": [
    "A = [3 -5 -4 4;\n",
    "    -1 -7 -4 -2;\n",
    "    -7 1 -3 4;\n",
    "    5 5 4 4;];\n",
    "v1 = [1;2;3;4];\n",
    "B = [3 -7 1 1;\n",
    "    -2 -1 -1 -2;\n",
    "    3 0 4 5;\n",
    "    -4 1 -3 -4];"
   ]
  },
  {
   "cell_type": "code",
   "execution_count": 69,
   "metadata": {},
   "outputs": [
    {
     "name": "stdout",
     "output_type": "stream",
     "text": [
      "V =\n",
      "\n",
      "  -0.468165  -0.752066   0.125988  -0.377964\n",
      "  -0.468165   0.059311   0.629941  -0.377964\n",
      "  -0.585206   0.265714  -0.755929   0.755929\n",
      "   0.468165  -0.600229  -0.125988   0.377964\n",
      "\n",
      "D =\n",
      "\n",
      "Diagonal Matrix\n",
      "\n",
      "  -11.0000         0         0         0\n",
      "         0    8.0000         0         0\n",
      "         0         0   -2.0000         0\n",
      "         0         0         0    2.0000\n",
      "\n"
     ]
    }
   ],
   "source": [
    "[V,D] = eig(A)"
   ]
  },
  {
   "cell_type": "code",
   "execution_count": 70,
   "metadata": {},
   "outputs": [
    {
     "name": "stdout",
     "output_type": "stream",
     "text": [
      "ans =\n",
      "\n",
      "   0.80000\n",
      "   0.80000\n",
      "   1.00000\n",
      "  -0.80000\n",
      "\n"
     ]
    }
   ],
   "source": [
    "powerIt(A,v1,50)"
   ]
  },
  {
   "cell_type": "code",
   "execution_count": 71,
   "metadata": {},
   "outputs": [
    {
     "name": "stdout",
     "output_type": "stream",
     "text": [
      "V =\n",
      "\n",
      "   0.500000   0.833333  -0.059868   0.059868\n",
      "   0.500000  -0.166667  -0.059868   0.059868\n",
      "  -0.500000   0.166667  -0.838158   0.838158\n",
      "   0.500000  -0.500000   0.538816  -0.538816\n",
      "\n",
      "D =\n",
      "\n",
      "Diagonal Matrix\n",
      "\n",
      "  -4.00000         0         0         0\n",
      "         0   4.00000         0         0\n",
      "         0         0   1.00000         0\n",
      "         0         0         0   1.00000\n",
      "\n"
     ]
    }
   ],
   "source": [
    "[V,D] = eig(B)"
   ]
  },
  {
   "cell_type": "code",
   "execution_count": 72,
   "metadata": {},
   "outputs": [
    {
     "name": "stdout",
     "output_type": "stream",
     "text": [
      "ans =\n",
      "\n",
      "   1.00000\n",
      "   0.38776\n",
      "  -0.38776\n",
      "   0.18367\n",
      "\n"
     ]
    }
   ],
   "source": [
    "powerIt(B,v1,100)"
   ]
  },
  {
   "cell_type": "code",
   "execution_count": 73,
   "metadata": {},
   "outputs": [
    {
     "name": "stdout",
     "output_type": "stream",
     "text": [
      "error: 'The' undefined near line 1 column 1\n",
      "error: 'returns' undefined near line 1 column 1\n",
      "parse error:\n",
      "\n",
      "  syntax error\n",
      "\n",
      ">>> magnitude. In addition, convergence is only guaranteed if the eigenvalues are distinct—in particular, the\n",
      "                         ^\n",
      "\n",
      "error: 'two' undefined near line 1 column 1\n",
      "error: 'depends' undefined near line 1 column 1\n",
      "error: 'convergence' undefined near line 1 column 1\n"
     ]
    }
   ],
   "source": [
    "The power iteration method is simple and elegant, but suffers some major drawbacks. The method only\n",
    "returns a single eigenvector estimate, and it is always the one corresponding to the eigenvalue of largest\n",
    "magnitude. In addition, convergence is only guaranteed if the eigenvalues are distinct—in particular, the\n",
    "two eigenvalues of largest absolute value must have distinct magnitudes. The rate of convergence primarily\n",
    "depends upon the ratio of these magnitudes, so if the two largest eigenvalues have similar sizes, then the\n",
    "convergence will be slow.\n"
   ]
  },
  {
   "cell_type": "code",
   "execution_count": null,
   "metadata": {
    "collapsed": true
   },
   "outputs": [],
   "source": []
  }
 ],
 "metadata": {
  "kernelspec": {
   "display_name": "Octave",
   "language": "octave",
   "name": "octave"
  },
  "language_info": {
   "file_extension": ".m",
   "help_links": [
    {
     "text": "GNU Octave",
     "url": "https://www.gnu.org/software/octave/support.html"
    },
    {
     "text": "Octave Kernel",
     "url": "https://github.com/Calysto/octave_kernel"
    },
    {
     "text": "MetaKernel Magics",
     "url": "https://github.com/calysto/metakernel/blob/master/metakernel/magics/README.md"
    }
   ],
   "mimetype": "text/x-octave",
   "name": "octave",
   "version": "4.2.1"
  }
 },
 "nbformat": 4,
 "nbformat_minor": 2
}
