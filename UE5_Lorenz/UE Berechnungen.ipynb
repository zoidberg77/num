{
 "cells": [
  {
   "cell_type": "code",
   "execution_count": 11,
   "metadata": {
    "collapsed": true
   },
   "outputs": [],
   "source": [
    "#Beispiel 31\n",
    "function xkplus1 = newton_f(xk)\n",
    "    xkplus1 = xk - (xk + exp(xk) -2)/(1 + exp(xk));\n",
    "    return\n",
    "endfunction"
   ]
  },
  {
   "cell_type": "code",
   "execution_count": 10,
   "metadata": {},
   "outputs": [
    {
     "name": "stdout",
     "output_type": "stream",
     "text": [
      "xkplus1 =  0.50000\n",
      "xkplus1 =  0.44385\n",
      "xkplus1 =  0.44285\n",
      "xkplus1 =  0.44285\n",
      "xkplus1 =  0.44285\n",
      "xkplus1 =  0.44285\n",
      "xkplus1 =  0.44285\n"
     ]
    }
   ],
   "source": [
    "newton_f(newton_f(newton_f(newton_f(newton_f(newton_f(newton_f(0)))))));"
   ]
  },
  {
   "cell_type": "code",
   "execution_count": 31,
   "metadata": {
    "collapsed": true
   },
   "outputs": [],
   "source": [
    "#Beispiel 32\n",
    "function y = f(x)\n",
    "    y = x + exp(x) - 2;\n",
    "    return\n",
    "endfunction"
   ]
  },
  {
   "cell_type": "code",
   "execution_count": 43,
   "metadata": {},
   "outputs": [
    {
     "name": "stdout",
     "output_type": "stream",
     "text": [
      "ans =  0.026281\n"
     ]
    }
   ],
   "source": [
    "f(0.45310)"
   ]
  },
  {
   "cell_type": "code",
   "execution_count": 45,
   "metadata": {},
   "outputs": [
    {
     "name": "stdout",
     "output_type": "stream",
     "text": [
      "ans =  0.46090\n"
     ]
    }
   ],
   "source": [
    "(0.4687+0.45310)/2"
   ]
  },
  {
   "cell_type": "code",
   "execution_count": 70,
   "metadata": {
    "collapsed": true
   },
   "outputs": [],
   "source": [
    "#Beispiel 33\n",
    "function y = g(x)\n",
    "    y = 1 + x + (1/3)*x^2;\n",
    "    return\n",
    "endfunction"
   ]
  },
  {
   "cell_type": "code",
   "execution_count": 81,
   "metadata": {},
   "outputs": [
    {
     "name": "stdout",
     "output_type": "stream",
     "text": [
      "ans =  6.4397\n"
     ]
    }
   ],
   "source": [
    "g(g(g(g(-1.5))))"
   ]
  },
  {
   "cell_type": "code",
   "execution_count": 76,
   "metadata": {},
   "outputs": [
    {
     "name": "stdout",
     "output_type": "stream",
     "text": [
      "ans =  3.7322\n"
     ]
    }
   ],
   "source": [
    "g(1.7321)"
   ]
  },
  {
   "cell_type": "code",
   "execution_count": 1,
   "metadata": {
    "collapsed": true
   },
   "outputs": [],
   "source": [
    "#Aufgabe 38"
   ]
  },
  {
   "cell_type": "code",
   "execution_count": 2,
   "metadata": {
    "collapsed": true
   },
   "outputs": [],
   "source": [
    "function x0 = newton(func, func_derived, start, iterations) # newton verfahren\n",
    "    x0 = start;\n",
    "    for i = 1:iterations\n",
    "        x0 = x0 + func(x0)/func_derived(x0);\n",
    "    endfor\n",
    "    return;\n",
    "endfunction"
   ]
  },
  {
   "cell_type": "code",
   "execution_count": 20,
   "metadata": {},
   "outputs": [
    {
     "name": "stdout",
     "output_type": "stream",
     "text": [
      "ans =   -2.8385e+05\n"
     ]
    }
   ],
   "source": [
    "newton(@cos, @sin, 0.1, 10000) # divergiert leider, newton ist sonst aber echt gut"
   ]
  },
  {
   "cell_type": "code",
   "execution_count": 21,
   "metadata": {
    "collapsed": true
   },
   "outputs": [],
   "source": [
    "function x0 = fixpunkt (func, start, iterations) # fixpunktiteration\n",
    "   x0 = start;\n",
    "   for n = 1:iterations\n",
    "        x0 = func(x0);\n",
    "    endfor \n",
    "    return\n",
    "endfunction"
   ]
  },
  {
   "cell_type": "code",
   "execution_count": 36,
   "metadata": {
    "collapsed": true
   },
   "outputs": [],
   "source": [
    "function res = g(x)\n",
    "    res = cos(x) + x;\n",
    "    return;\n",
    "endfunction"
   ]
  },
  {
   "cell_type": "code",
   "execution_count": 43,
   "metadata": {},
   "outputs": [
    {
     "name": "stdout",
     "output_type": "stream",
     "text": [
      "ans =  1.5708\n"
     ]
    }
   ],
   "source": [
    "fixpunkt(@g, 0, 1000) #ergebnis in pi - 1.5708 = pi/2 = 90 grad, cos(90) = 0."
   ]
  },
  {
   "cell_type": "code",
   "execution_count": 42,
   "metadata": {},
   "outputs": [
    {
     "name": "stdout",
     "output_type": "stream",
     "text": [
      "ans =  0.73909\n"
     ]
    }
   ],
   "source": [
    "fixpunkt(@cos, 1, 1000)"
   ]
  },
  {
   "cell_type": "code",
   "execution_count": 1,
   "metadata": {},
   "outputs": [
    {
     "name": "stdout",
     "output_type": "stream",
     "text": [
      "ans =  6.6667\n",
      "ans =  4.0000\n",
      "ans =  2.0000\n",
      "ans =  0.66667\n",
      "ans =   -2.2204e-16\n",
      "ans =   -5.5511e-17\n",
      "ans =  0.66667\n",
      "ans =  2.0000\n",
      "ans =  4\n",
      "ans =  6.6667\n",
      "ans =  10\n",
      "ans =  14\n",
      "ans =  18.667\n"
     ]
    }
   ],
   "source": [
    "#Beispiel 42\n",
    "function res = func1 (val)\n",
    "   res = (2/3) + val + (1/3) * val * val;\n",
    "   return\n",
    "endfunction\n",
    "\n",
    "func1(-6)\n",
    "func1(-5)\n",
    "func1(-4)\n",
    "func1(-3)\n",
    "func1(-2)\n",
    "func1(-1)\n",
    "func1(0)\n",
    "func1(1)\n",
    "func1(2)\n",
    "func1(3)\n",
    "func1(4)\n",
    "func1(5)\n",
    "func1(6)"
   ]
  },
  {
   "cell_type": "code",
   "execution_count": null,
   "metadata": {
    "collapsed": true
   },
   "outputs": [],
   "source": []
  }
 ],
 "metadata": {
  "kernelspec": {
   "display_name": "Octave",
   "language": "octave",
   "name": "octave"
  },
  "language_info": {
   "file_extension": ".m",
   "help_links": [
    {
     "text": "GNU Octave",
     "url": "https://www.gnu.org/software/octave/support.html"
    },
    {
     "text": "Octave Kernel",
     "url": "https://github.com/Calysto/octave_kernel"
    },
    {
     "text": "MetaKernel Magics",
     "url": "https://github.com/calysto/metakernel/blob/master/metakernel/magics/README.md"
    }
   ],
   "mimetype": "text/x-octave",
   "name": "octave",
   "version": "4.2.1"
  }
 },
 "nbformat": 4,
 "nbformat_minor": 2
}
